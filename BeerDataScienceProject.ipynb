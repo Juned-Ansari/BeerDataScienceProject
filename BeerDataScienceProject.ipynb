{
 "cells": [
  {
   "cell_type": "markdown",
   "metadata": {},
   "source": [
    "## Technical Exercise for Data Scientist Candidates\n",
    "\n",
    "For this exercise, you will be working with beer data which can be downloaded from here \n",
    "https://drive.google.com/open?id=1e-kyoB97a5tnE7X4T4Es4FHi4g6Trefq\n",
    " \n",
    "Unzip the file and you should see a CSV file, called “BeerDataScienceProject.csv”\n",
    "\n",
    "The columns are\n",
    "beer_ABV\tbeer_beerId\tbeer_brewerId\tbeer_name\tbeer_style\treview_appearance\treview_palette\treview_overall\treview_taste\treview_profileName\treview_aroma\treview_text\treview_time\n",
    "\n",
    "\n",
    "You may use any one or more among the following open source programming language(s) (Python, R, C++, Java, Scala, Julia, etc.) if you like to do so (no “SQL” Based Code). You are welcome to use any other open source framework, packages, and technologies. Please provide your answers below the questions. \n",
    "\n",
    "When you submit your answers, please provide a link to your code in public repository like github with instructions on how to run it to reproduce your results.\n",
    "\n",
    "Include few slides to summarize your findings and to convince the audience.     \n",
    "\n",
    "Answer as many questions as possible.\n",
    " \n",
    "Questions: \n",
    "\n",
    "1.\tRank top 3 Breweries which produce the strongest beers?\n",
    "2.\tWhich year did beers enjoy the highest ratings? \n",
    "3.\tBased on the user’s ratings which factors are important among taste, aroma, appearance, and palette?\n",
    "4.\tIf you were to recommend 3 beers to your friends based on this data which ones will you recommend?\n",
    "5.\tWhich Beer style seems to be the favorite based on reviews written by users? \n",
    "6.\tHow does written review compare to overall review score for the beer styles?\n",
    "7.\tHow do find similar beer drinkers by using written reviews only?   \n",
    "\n",
    "*Please include all plots you created to complete the project and to explain your results. "
   ]
  },
  {
   "cell_type": "code",
   "execution_count": 190,
   "metadata": {},
   "outputs": [],
   "source": [
    "import numpy as np\n",
    "import pandas as pd"
   ]
  },
  {
   "cell_type": "code",
   "execution_count": 191,
   "metadata": {},
   "outputs": [
    {
     "data": {
      "text/html": [
       "<div>\n",
       "<style scoped>\n",
       "    .dataframe tbody tr th:only-of-type {\n",
       "        vertical-align: middle;\n",
       "    }\n",
       "\n",
       "    .dataframe tbody tr th {\n",
       "        vertical-align: top;\n",
       "    }\n",
       "\n",
       "    .dataframe thead th {\n",
       "        text-align: right;\n",
       "    }\n",
       "</style>\n",
       "<table border=\"1\" class=\"dataframe\">\n",
       "  <thead>\n",
       "    <tr style=\"text-align: right;\">\n",
       "      <th></th>\n",
       "      <th>beer_ABV</th>\n",
       "      <th>beer_beerId</th>\n",
       "      <th>beer_brewerId</th>\n",
       "      <th>beer_name</th>\n",
       "      <th>beer_style</th>\n",
       "      <th>review_appearance</th>\n",
       "      <th>review_palette</th>\n",
       "      <th>review_overall</th>\n",
       "      <th>review_taste</th>\n",
       "      <th>review_profileName</th>\n",
       "      <th>review_aroma</th>\n",
       "      <th>review_text</th>\n",
       "      <th>review_time</th>\n",
       "      <th>review_year</th>\n",
       "    </tr>\n",
       "  </thead>\n",
       "  <tbody>\n",
       "    <tr>\n",
       "      <th>0</th>\n",
       "      <td>5.0</td>\n",
       "      <td>47986</td>\n",
       "      <td>10325</td>\n",
       "      <td>Sausa Weizen</td>\n",
       "      <td>Hefeweizen</td>\n",
       "      <td>2.5</td>\n",
       "      <td>2.0</td>\n",
       "      <td>1.5</td>\n",
       "      <td>1.5</td>\n",
       "      <td>stcules</td>\n",
       "      <td>1.5</td>\n",
       "      <td>A lot of foam. But a lot. In the smell some ba...</td>\n",
       "      <td>1234817823</td>\n",
       "      <td>2009</td>\n",
       "    </tr>\n",
       "    <tr>\n",
       "      <th>1</th>\n",
       "      <td>6.2</td>\n",
       "      <td>48213</td>\n",
       "      <td>10325</td>\n",
       "      <td>Red Moon</td>\n",
       "      <td>English Strong Ale</td>\n",
       "      <td>3.0</td>\n",
       "      <td>2.5</td>\n",
       "      <td>3.0</td>\n",
       "      <td>3.0</td>\n",
       "      <td>stcules</td>\n",
       "      <td>3.0</td>\n",
       "      <td>Dark red color, light beige foam, average. In ...</td>\n",
       "      <td>1235915097</td>\n",
       "      <td>2009</td>\n",
       "    </tr>\n",
       "    <tr>\n",
       "      <th>2</th>\n",
       "      <td>6.5</td>\n",
       "      <td>48215</td>\n",
       "      <td>10325</td>\n",
       "      <td>Black Horse Black Beer</td>\n",
       "      <td>Foreign / Export Stout</td>\n",
       "      <td>3.0</td>\n",
       "      <td>2.5</td>\n",
       "      <td>3.0</td>\n",
       "      <td>3.0</td>\n",
       "      <td>stcules</td>\n",
       "      <td>3.0</td>\n",
       "      <td>Almost totally black. Beige foam, quite compac...</td>\n",
       "      <td>1235916604</td>\n",
       "      <td>2009</td>\n",
       "    </tr>\n",
       "    <tr>\n",
       "      <th>3</th>\n",
       "      <td>5.0</td>\n",
       "      <td>47969</td>\n",
       "      <td>10325</td>\n",
       "      <td>Sausa Pils</td>\n",
       "      <td>German Pilsener</td>\n",
       "      <td>3.5</td>\n",
       "      <td>3.0</td>\n",
       "      <td>3.0</td>\n",
       "      <td>2.5</td>\n",
       "      <td>stcules</td>\n",
       "      <td>3.0</td>\n",
       "      <td>Golden yellow color. White, compact foam, quit...</td>\n",
       "      <td>1234725145</td>\n",
       "      <td>2009</td>\n",
       "    </tr>\n",
       "    <tr>\n",
       "      <th>4</th>\n",
       "      <td>7.7</td>\n",
       "      <td>64883</td>\n",
       "      <td>1075</td>\n",
       "      <td>Cauldron DIPA</td>\n",
       "      <td>American Double / Imperial IPA</td>\n",
       "      <td>4.0</td>\n",
       "      <td>4.5</td>\n",
       "      <td>4.0</td>\n",
       "      <td>4.0</td>\n",
       "      <td>johnmichaelsen</td>\n",
       "      <td>4.5</td>\n",
       "      <td>According to the website, the style for the Ca...</td>\n",
       "      <td>1293735206</td>\n",
       "      <td>2010</td>\n",
       "    </tr>\n",
       "  </tbody>\n",
       "</table>\n",
       "</div>"
      ],
      "text/plain": [
       "   beer_ABV  beer_beerId  beer_brewerId               beer_name  \\\n",
       "0       5.0        47986          10325            Sausa Weizen   \n",
       "1       6.2        48213          10325                Red Moon   \n",
       "2       6.5        48215          10325  Black Horse Black Beer   \n",
       "3       5.0        47969          10325              Sausa Pils   \n",
       "4       7.7        64883           1075           Cauldron DIPA   \n",
       "\n",
       "                       beer_style  review_appearance  review_palette  \\\n",
       "0                      Hefeweizen                2.5             2.0   \n",
       "1              English Strong Ale                3.0             2.5   \n",
       "2          Foreign / Export Stout                3.0             2.5   \n",
       "3                 German Pilsener                3.5             3.0   \n",
       "4  American Double / Imperial IPA                4.0             4.5   \n",
       "\n",
       "   review_overall  review_taste review_profileName  review_aroma  \\\n",
       "0             1.5           1.5            stcules           1.5   \n",
       "1             3.0           3.0            stcules           3.0   \n",
       "2             3.0           3.0            stcules           3.0   \n",
       "3             3.0           2.5            stcules           3.0   \n",
       "4             4.0           4.0     johnmichaelsen           4.5   \n",
       "\n",
       "                                         review_text  review_time  review_year  \n",
       "0  A lot of foam. But a lot. In the smell some ba...   1234817823         2009  \n",
       "1  Dark red color, light beige foam, average. In ...   1235915097         2009  \n",
       "2  Almost totally black. Beige foam, quite compac...   1235916604         2009  \n",
       "3  Golden yellow color. White, compact foam, quit...   1234725145         2009  \n",
       "4  According to the website, the style for the Ca...   1293735206         2010  "
      ]
     },
     "execution_count": 191,
     "metadata": {},
     "output_type": "execute_result"
    }
   ],
   "source": [
    "df = pd.read_csv('BeerDataScienceProject.csv',encoding='latin-1')\n",
    "# fetch year from time column\n",
    "df['review_year'] = pd.DatetimeIndex(pd.to_datetime(df['review_time'], unit='s')).year\n",
    "df.head()"
   ]
  },
  {
   "cell_type": "code",
   "execution_count": 192,
   "metadata": {},
   "outputs": [
    {
     "data": {
      "text/plain": [
       "array([2009, 2010, 2012, 2011, 2004, 2003, 2008, 2007, 2006, 2005, 2002,\n",
       "       2001, 2000, 1999, 1998])"
      ]
     },
     "execution_count": 192,
     "metadata": {},
     "output_type": "execute_result"
    }
   ],
   "source": [
    "df['review_year'].unique()"
   ]
  },
  {
   "cell_type": "code",
   "execution_count": 193,
   "metadata": {},
   "outputs": [
    {
     "data": {
      "text/plain": [
       "(528870, 14)"
      ]
     },
     "execution_count": 193,
     "metadata": {},
     "output_type": "execute_result"
    }
   ],
   "source": [
    "df.shape"
   ]
  },
  {
   "cell_type": "code",
   "execution_count": 5,
   "metadata": {},
   "outputs": [
    {
     "data": {
      "text/plain": [
       "beer_ABV              float64\n",
       "beer_beerId             int64\n",
       "beer_brewerId           int64\n",
       "beer_name              object\n",
       "beer_style             object\n",
       "review_appearance     float64\n",
       "review_palette        float64\n",
       "review_overall        float64\n",
       "review_taste          float64\n",
       "review_profileName     object\n",
       "review_aroma          float64\n",
       "review_text            object\n",
       "review_time             int64\n",
       "review_year             int64\n",
       "dtype: object"
      ]
     },
     "execution_count": 5,
     "metadata": {},
     "output_type": "execute_result"
    }
   ],
   "source": [
    "df.dtypes"
   ]
  },
  {
   "cell_type": "code",
   "execution_count": 6,
   "metadata": {},
   "outputs": [
    {
     "data": {
      "text/html": [
       "<div>\n",
       "<style scoped>\n",
       "    .dataframe tbody tr th:only-of-type {\n",
       "        vertical-align: middle;\n",
       "    }\n",
       "\n",
       "    .dataframe tbody tr th {\n",
       "        vertical-align: top;\n",
       "    }\n",
       "\n",
       "    .dataframe thead th {\n",
       "        text-align: right;\n",
       "    }\n",
       "</style>\n",
       "<table border=\"1\" class=\"dataframe\">\n",
       "  <thead>\n",
       "    <tr style=\"text-align: right;\">\n",
       "      <th></th>\n",
       "      <th>beer_ABV</th>\n",
       "      <th>beer_beerId</th>\n",
       "      <th>beer_brewerId</th>\n",
       "      <th>review_appearance</th>\n",
       "      <th>review_palette</th>\n",
       "      <th>review_overall</th>\n",
       "      <th>review_taste</th>\n",
       "      <th>review_aroma</th>\n",
       "      <th>review_time</th>\n",
       "      <th>review_year</th>\n",
       "    </tr>\n",
       "  </thead>\n",
       "  <tbody>\n",
       "    <tr>\n",
       "      <th>count</th>\n",
       "      <td>508590.000000</td>\n",
       "      <td>528870.000000</td>\n",
       "      <td>528870.000000</td>\n",
       "      <td>528870.000000</td>\n",
       "      <td>528870.000000</td>\n",
       "      <td>528870.000000</td>\n",
       "      <td>528870.000000</td>\n",
       "      <td>528870.000000</td>\n",
       "      <td>5.288700e+05</td>\n",
       "      <td>528870.000000</td>\n",
       "    </tr>\n",
       "    <tr>\n",
       "      <th>mean</th>\n",
       "      <td>7.017442</td>\n",
       "      <td>22098.466016</td>\n",
       "      <td>2598.423429</td>\n",
       "      <td>3.864522</td>\n",
       "      <td>3.758926</td>\n",
       "      <td>3.833197</td>\n",
       "      <td>3.765993</td>\n",
       "      <td>3.817350</td>\n",
       "      <td>1.224885e+09</td>\n",
       "      <td>2008.307208</td>\n",
       "    </tr>\n",
       "    <tr>\n",
       "      <th>std</th>\n",
       "      <td>2.204460</td>\n",
       "      <td>22158.284352</td>\n",
       "      <td>5281.805350</td>\n",
       "      <td>0.604010</td>\n",
       "      <td>0.685335</td>\n",
       "      <td>0.709962</td>\n",
       "      <td>0.669018</td>\n",
       "      <td>0.718903</td>\n",
       "      <td>7.605600e+07</td>\n",
       "      <td>2.409739</td>\n",
       "    </tr>\n",
       "    <tr>\n",
       "      <th>min</th>\n",
       "      <td>0.010000</td>\n",
       "      <td>3.000000</td>\n",
       "      <td>1.000000</td>\n",
       "      <td>0.000000</td>\n",
       "      <td>1.000000</td>\n",
       "      <td>0.000000</td>\n",
       "      <td>1.000000</td>\n",
       "      <td>1.000000</td>\n",
       "      <td>8.843904e+08</td>\n",
       "      <td>1998.000000</td>\n",
       "    </tr>\n",
       "    <tr>\n",
       "      <th>25%</th>\n",
       "      <td>5.300000</td>\n",
       "      <td>1745.000000</td>\n",
       "      <td>132.000000</td>\n",
       "      <td>3.500000</td>\n",
       "      <td>3.500000</td>\n",
       "      <td>3.500000</td>\n",
       "      <td>3.500000</td>\n",
       "      <td>3.500000</td>\n",
       "      <td>1.174613e+09</td>\n",
       "      <td>2007.000000</td>\n",
       "    </tr>\n",
       "    <tr>\n",
       "      <th>50%</th>\n",
       "      <td>6.500000</td>\n",
       "      <td>14368.000000</td>\n",
       "      <td>394.000000</td>\n",
       "      <td>4.000000</td>\n",
       "      <td>4.000000</td>\n",
       "      <td>4.000000</td>\n",
       "      <td>4.000000</td>\n",
       "      <td>4.000000</td>\n",
       "      <td>1.240366e+09</td>\n",
       "      <td>2009.000000</td>\n",
       "    </tr>\n",
       "    <tr>\n",
       "      <th>75%</th>\n",
       "      <td>8.500000</td>\n",
       "      <td>40528.000000</td>\n",
       "      <td>1475.000000</td>\n",
       "      <td>4.000000</td>\n",
       "      <td>4.000000</td>\n",
       "      <td>4.500000</td>\n",
       "      <td>4.000000</td>\n",
       "      <td>4.500000</td>\n",
       "      <td>1.288560e+09</td>\n",
       "      <td>2010.000000</td>\n",
       "    </tr>\n",
       "    <tr>\n",
       "      <th>max</th>\n",
       "      <td>57.700000</td>\n",
       "      <td>77310.000000</td>\n",
       "      <td>27980.000000</td>\n",
       "      <td>5.000000</td>\n",
       "      <td>5.000000</td>\n",
       "      <td>5.000000</td>\n",
       "      <td>5.000000</td>\n",
       "      <td>5.000000</td>\n",
       "      <td>1.326277e+09</td>\n",
       "      <td>2012.000000</td>\n",
       "    </tr>\n",
       "  </tbody>\n",
       "</table>\n",
       "</div>"
      ],
      "text/plain": [
       "            beer_ABV    beer_beerId  beer_brewerId  review_appearance  \\\n",
       "count  508590.000000  528870.000000  528870.000000      528870.000000   \n",
       "mean        7.017442   22098.466016    2598.423429           3.864522   \n",
       "std         2.204460   22158.284352    5281.805350           0.604010   \n",
       "min         0.010000       3.000000       1.000000           0.000000   \n",
       "25%         5.300000    1745.000000     132.000000           3.500000   \n",
       "50%         6.500000   14368.000000     394.000000           4.000000   \n",
       "75%         8.500000   40528.000000    1475.000000           4.000000   \n",
       "max        57.700000   77310.000000   27980.000000           5.000000   \n",
       "\n",
       "       review_palette  review_overall   review_taste   review_aroma  \\\n",
       "count   528870.000000   528870.000000  528870.000000  528870.000000   \n",
       "mean         3.758926        3.833197       3.765993       3.817350   \n",
       "std          0.685335        0.709962       0.669018       0.718903   \n",
       "min          1.000000        0.000000       1.000000       1.000000   \n",
       "25%          3.500000        3.500000       3.500000       3.500000   \n",
       "50%          4.000000        4.000000       4.000000       4.000000   \n",
       "75%          4.000000        4.500000       4.000000       4.500000   \n",
       "max          5.000000        5.000000       5.000000       5.000000   \n",
       "\n",
       "        review_time    review_year  \n",
       "count  5.288700e+05  528870.000000  \n",
       "mean   1.224885e+09    2008.307208  \n",
       "std    7.605600e+07       2.409739  \n",
       "min    8.843904e+08    1998.000000  \n",
       "25%    1.174613e+09    2007.000000  \n",
       "50%    1.240366e+09    2009.000000  \n",
       "75%    1.288560e+09    2010.000000  \n",
       "max    1.326277e+09    2012.000000  "
      ]
     },
     "execution_count": 6,
     "metadata": {},
     "output_type": "execute_result"
    }
   ],
   "source": [
    "df.describe()"
   ]
  },
  {
   "cell_type": "markdown",
   "metadata": {},
   "source": [
    "### Drop Null Values"
   ]
  },
  {
   "cell_type": "code",
   "execution_count": 194,
   "metadata": {
    "scrolled": true
   },
   "outputs": [
    {
     "data": {
      "text/plain": [
       "beer_ABV              20280\n",
       "beer_beerId               0\n",
       "beer_brewerId             0\n",
       "beer_name                 0\n",
       "beer_style                0\n",
       "review_appearance         0\n",
       "review_palette            0\n",
       "review_overall            0\n",
       "review_taste              0\n",
       "review_profileName      115\n",
       "review_aroma              0\n",
       "review_text             119\n",
       "review_time               0\n",
       "review_year               0\n",
       "dtype: int64"
      ]
     },
     "execution_count": 194,
     "metadata": {},
     "output_type": "execute_result"
    }
   ],
   "source": [
    "#count null values\n",
    "df.isna().sum()"
   ]
  },
  {
   "cell_type": "code",
   "execution_count": 195,
   "metadata": {},
   "outputs": [
    {
     "name": "stdout",
     "output_type": "stream",
     "text": [
      "Percent Null Values of `beer_abv` column: 3.83 %\n"
     ]
    }
   ],
   "source": [
    "# Percent of data missing `beer_abv` values\n",
    "print(\"Percent Null Values of `beer_abv` column:\", round(df.isna().sum().max() / len(df) * 100, 2),\"%\")"
   ]
  },
  {
   "cell_type": "code",
   "execution_count": 196,
   "metadata": {},
   "outputs": [
    {
     "name": "stdout",
     "output_type": "stream",
     "text": [
      "Removing all null values only impacts the size of the dataset by a little over 3.83 %\n"
     ]
    },
    {
     "data": {
      "text/plain": [
       "beer_ABV              0\n",
       "beer_beerId           0\n",
       "beer_brewerId         0\n",
       "beer_name             0\n",
       "beer_style            0\n",
       "review_appearance     0\n",
       "review_palette        0\n",
       "review_overall        0\n",
       "review_taste          0\n",
       "review_profileName    0\n",
       "review_aroma          0\n",
       "review_text           0\n",
       "review_time           0\n",
       "review_year           0\n",
       "dtype: int64"
      ]
     },
     "execution_count": 196,
     "metadata": {},
     "output_type": "execute_result"
    }
   ],
   "source": [
    "# Drop Null Values\n",
    "print(\"Removing all null values only impacts the size of the dataset by a little over\", round(df.isna().sum().max() / len(df) * 100, 2) , \"%\")\n",
    "df = df.dropna()\n",
    "df.isna().sum()"
   ]
  },
  {
   "cell_type": "markdown",
   "metadata": {},
   "source": [
    "### Drop Duplicate Values\n",
    "If a user has rated the same beer more than once, then only keep their highest rating."
   ]
  },
  {
   "cell_type": "code",
   "execution_count": 197,
   "metadata": {},
   "outputs": [
    {
     "name": "stdout",
     "output_type": "stream",
     "text": [
      "Percent of Duplicate Values (Removing all duplicate values drops about 1.1 % of the remaining data):\n"
     ]
    }
   ],
   "source": [
    "count_before_duplicate_removal = len(df.index)\n",
    "# Sort by user overall rating first\n",
    "df = df.sort_values('review_overall', ascending=False)\n",
    "\n",
    "# Keep the highest rating from each user and drop the rest \n",
    "df = df.drop_duplicates(subset=['review_profileName', 'beer_name'], keep='first')\n",
    "count_after_duplicate_removal = len(df.index)\n",
    "\n",
    "# Percent of data that are duplicates\n",
    "print(\"Percent of Duplicate Values (Removing all duplicate values drops about\", round((count_before_duplicate_removal - count_after_duplicate_removal)/ count_before_duplicate_removal * 100, 2),\"% of the remaining data):\")\n"
   ]
  },
  {
   "cell_type": "markdown",
   "metadata": {},
   "source": [
    "### Remove <1 and >5 Ratings \n",
    "Ratings are on scale of 1-5 so remove ratings < 1 or > 5"
   ]
  },
  {
   "cell_type": "code",
   "execution_count": 198,
   "metadata": {},
   "outputs": [
    {
     "name": "stdout",
     "output_type": "stream",
     "text": [
      "<class 'pandas.core.frame.DataFrame'>\n",
      "Int64Index: 502769 entries, 492945 to 39638\n",
      "Data columns (total 14 columns):\n",
      " #   Column              Non-Null Count   Dtype  \n",
      "---  ------              --------------   -----  \n",
      " 0   beer_ABV            502769 non-null  float64\n",
      " 1   beer_beerId         502769 non-null  int64  \n",
      " 2   beer_brewerId       502769 non-null  int64  \n",
      " 3   beer_name           502769 non-null  object \n",
      " 4   beer_style          502769 non-null  object \n",
      " 5   review_appearance   502769 non-null  float64\n",
      " 6   review_palette      502769 non-null  float64\n",
      " 7   review_overall      502769 non-null  float64\n",
      " 8   review_taste        502769 non-null  float64\n",
      " 9   review_profileName  502769 non-null  object \n",
      " 10  review_aroma        502769 non-null  float64\n",
      " 11  review_text         502769 non-null  object \n",
      " 12  review_time         502769 non-null  int64  \n",
      " 13  review_year         502769 non-null  int64  \n",
      "dtypes: float64(6), int64(4), object(4)\n",
      "memory usage: 57.5+ MB\n"
     ]
    }
   ],
   "source": [
    "df = df[( (df['review_overall'] >= 1) | (df['review_overall'] <=5) ) | ( (df['review_appearance'] >= 1) | (df['review_appearance'] <= 5) )]\n",
    "df.info()"
   ]
  },
  {
   "cell_type": "code",
   "execution_count": 199,
   "metadata": {},
   "outputs": [
    {
     "data": {
      "image/png": "[encoded data removed]",
      "text/plain": [
       "<Figure size 864x864 with 12 Axes>"
      ]
     },
     "metadata": {},
     "output_type": "display_data"
    }
   ],
   "source": [
    "import matplotlib.pyplot as plt\n",
    "df.hist(figsize=(12,12))\n",
    "plt.show()"
   ]
  },
  {
   "cell_type": "code",
   "execution_count": 200,
   "metadata": {},
   "outputs": [
    {
     "data": {
      "text/html": [
       "<div>\n",
       "<style scoped>\n",
       "    .dataframe tbody tr th:only-of-type {\n",
       "        vertical-align: middle;\n",
       "    }\n",
       "\n",
       "    .dataframe tbody tr th {\n",
       "        vertical-align: top;\n",
       "    }\n",
       "\n",
       "    .dataframe thead th {\n",
       "        text-align: right;\n",
       "    }\n",
       "</style>\n",
       "<table border=\"1\" class=\"dataframe\">\n",
       "  <thead>\n",
       "    <tr style=\"text-align: right;\">\n",
       "      <th></th>\n",
       "      <th>beer_ABV</th>\n",
       "      <th>beer_beerId</th>\n",
       "      <th>beer_brewerId</th>\n",
       "      <th>review_appearance</th>\n",
       "      <th>review_palette</th>\n",
       "      <th>review_overall</th>\n",
       "      <th>review_taste</th>\n",
       "      <th>review_aroma</th>\n",
       "      <th>review_time</th>\n",
       "      <th>review_year</th>\n",
       "    </tr>\n",
       "  </thead>\n",
       "  <tbody>\n",
       "    <tr>\n",
       "      <th>beer_ABV</th>\n",
       "      <td>1.000000</td>\n",
       "      <td>0.217320</td>\n",
       "      <td>0.078702</td>\n",
       "      <td>0.251827</td>\n",
       "      <td>0.318706</td>\n",
       "      <td>0.118760</td>\n",
       "      <td>0.268288</td>\n",
       "      <td>0.270915</td>\n",
       "      <td>0.142641</td>\n",
       "      <td>0.144276</td>\n",
       "    </tr>\n",
       "    <tr>\n",
       "      <th>beer_beerId</th>\n",
       "      <td>0.217320</td>\n",
       "      <td>1.000000</td>\n",
       "      <td>0.460914</td>\n",
       "      <td>0.050835</td>\n",
       "      <td>0.060654</td>\n",
       "      <td>-0.012547</td>\n",
       "      <td>0.035680</td>\n",
       "      <td>0.014374</td>\n",
       "      <td>0.460211</td>\n",
       "      <td>0.456756</td>\n",
       "    </tr>\n",
       "    <tr>\n",
       "      <th>beer_brewerId</th>\n",
       "      <td>0.078702</td>\n",
       "      <td>0.460914</td>\n",
       "      <td>1.000000</td>\n",
       "      <td>-0.004555</td>\n",
       "      <td>0.017241</td>\n",
       "      <td>-0.014356</td>\n",
       "      <td>-0.002606</td>\n",
       "      <td>-0.009661</td>\n",
       "      <td>0.246254</td>\n",
       "      <td>0.242698</td>\n",
       "    </tr>\n",
       "    <tr>\n",
       "      <th>review_appearance</th>\n",
       "      <td>0.251827</td>\n",
       "      <td>0.050835</td>\n",
       "      <td>-0.004555</td>\n",
       "      <td>1.000000</td>\n",
       "      <td>0.544325</td>\n",
       "      <td>0.482822</td>\n",
       "      <td>0.551516</td>\n",
       "      <td>0.530783</td>\n",
       "      <td>0.046353</td>\n",
       "      <td>0.047444</td>\n",
       "    </tr>\n",
       "    <tr>\n",
       "      <th>review_palette</th>\n",
       "      <td>0.318706</td>\n",
       "      <td>0.060654</td>\n",
       "      <td>0.017241</td>\n",
       "      <td>0.544325</td>\n",
       "      <td>1.000000</td>\n",
       "      <td>0.597741</td>\n",
       "      <td>0.600336</td>\n",
       "      <td>0.702967</td>\n",
       "      <td>0.049932</td>\n",
       "      <td>0.050229</td>\n",
       "    </tr>\n",
       "    <tr>\n",
       "      <th>review_overall</th>\n",
       "      <td>0.118760</td>\n",
       "      <td>-0.012547</td>\n",
       "      <td>-0.014356</td>\n",
       "      <td>0.482822</td>\n",
       "      <td>0.597741</td>\n",
       "      <td>1.000000</td>\n",
       "      <td>0.688935</td>\n",
       "      <td>0.780247</td>\n",
       "      <td>0.018225</td>\n",
       "      <td>0.019497</td>\n",
       "    </tr>\n",
       "    <tr>\n",
       "      <th>review_taste</th>\n",
       "      <td>0.268288</td>\n",
       "      <td>0.035680</td>\n",
       "      <td>-0.002606</td>\n",
       "      <td>0.551516</td>\n",
       "      <td>0.600336</td>\n",
       "      <td>0.688935</td>\n",
       "      <td>1.000000</td>\n",
       "      <td>0.722357</td>\n",
       "      <td>0.043758</td>\n",
       "      <td>0.044976</td>\n",
       "    </tr>\n",
       "    <tr>\n",
       "      <th>review_aroma</th>\n",
       "      <td>0.270915</td>\n",
       "      <td>0.014374</td>\n",
       "      <td>-0.009661</td>\n",
       "      <td>0.530783</td>\n",
       "      <td>0.702967</td>\n",
       "      <td>0.780247</td>\n",
       "      <td>0.722357</td>\n",
       "      <td>1.000000</td>\n",
       "      <td>0.028925</td>\n",
       "      <td>0.029950</td>\n",
       "    </tr>\n",
       "    <tr>\n",
       "      <th>review_time</th>\n",
       "      <td>0.142641</td>\n",
       "      <td>0.460211</td>\n",
       "      <td>0.246254</td>\n",
       "      <td>0.046353</td>\n",
       "      <td>0.049932</td>\n",
       "      <td>0.018225</td>\n",
       "      <td>0.043758</td>\n",
       "      <td>0.028925</td>\n",
       "      <td>1.000000</td>\n",
       "      <td>0.992318</td>\n",
       "    </tr>\n",
       "    <tr>\n",
       "      <th>review_year</th>\n",
       "      <td>0.144276</td>\n",
       "      <td>0.456756</td>\n",
       "      <td>0.242698</td>\n",
       "      <td>0.047444</td>\n",
       "      <td>0.050229</td>\n",
       "      <td>0.019497</td>\n",
       "      <td>0.044976</td>\n",
       "      <td>0.029950</td>\n",
       "      <td>0.992318</td>\n",
       "      <td>1.000000</td>\n",
       "    </tr>\n",
       "  </tbody>\n",
       "</table>\n",
       "</div>"
      ],
      "text/plain": [
       "                   beer_ABV  beer_beerId  beer_brewerId  review_appearance  \\\n",
       "beer_ABV           1.000000     0.217320       0.078702           0.251827   \n",
       "beer_beerId        0.217320     1.000000       0.460914           0.050835   \n",
       "beer_brewerId      0.078702     0.460914       1.000000          -0.004555   \n",
       "review_appearance  0.251827     0.050835      -0.004555           1.000000   \n",
       "review_palette     0.318706     0.060654       0.017241           0.544325   \n",
       "review_overall     0.118760    -0.012547      -0.014356           0.482822   \n",
       "review_taste       0.268288     0.035680      -0.002606           0.551516   \n",
       "review_aroma       0.270915     0.014374      -0.009661           0.530783   \n",
       "review_time        0.142641     0.460211       0.246254           0.046353   \n",
       "review_year        0.144276     0.456756       0.242698           0.047444   \n",
       "\n",
       "                   review_palette  review_overall  review_taste  review_aroma  \\\n",
       "beer_ABV                 0.318706        0.118760      0.268288      0.270915   \n",
       "beer_beerId              0.060654       -0.012547      0.035680      0.014374   \n",
       "beer_brewerId            0.017241       -0.014356     -0.002606     -0.009661   \n",
       "review_appearance        0.544325        0.482822      0.551516      0.530783   \n",
       "review_palette           1.000000        0.597741      0.600336      0.702967   \n",
       "review_overall           0.597741        1.000000      0.688935      0.780247   \n",
       "review_taste             0.600336        0.688935      1.000000      0.722357   \n",
       "review_aroma             0.702967        0.780247      0.722357      1.000000   \n",
       "review_time              0.049932        0.018225      0.043758      0.028925   \n",
       "review_year              0.050229        0.019497      0.044976      0.029950   \n",
       "\n",
       "                   review_time  review_year  \n",
       "beer_ABV              0.142641     0.144276  \n",
       "beer_beerId           0.460211     0.456756  \n",
       "beer_brewerId         0.246254     0.242698  \n",
       "review_appearance     0.046353     0.047444  \n",
       "review_palette        0.049932     0.050229  \n",
       "review_overall        0.018225     0.019497  \n",
       "review_taste          0.043758     0.044976  \n",
       "review_aroma          0.028925     0.029950  \n",
       "review_time           1.000000     0.992318  \n",
       "review_year           0.992318     1.000000  "
      ]
     },
     "execution_count": 200,
     "metadata": {},
     "output_type": "execute_result"
    }
   ],
   "source": [
    "df.corr()"
   ]
  },
  {
   "cell_type": "code",
   "execution_count": 201,
   "metadata": {},
   "outputs": [
    {
     "data": {
      "image/png": "[encoded data removed]",
      "text/plain": [
       "<Figure size 1800x504 with 2 Axes>"
      ]
     },
     "metadata": {},
     "output_type": "display_data"
    }
   ],
   "source": [
    "import seaborn as sns\n",
    "sns.heatmap(df.corr(), annot=True)\n",
    "plt.show()"
   ]
  },
  {
   "cell_type": "markdown",
   "metadata": {},
   "source": [
    "## Question:1 \n",
    "Rank top 3 Breweries which produce the strongest beers?"
   ]
  },
  {
   "cell_type": "code",
   "execution_count": 202,
   "metadata": {},
   "outputs": [
    {
     "data": {
      "text/html": [
       "<div>\n",
       "<style scoped>\n",
       "    .dataframe tbody tr th:only-of-type {\n",
       "        vertical-align: middle;\n",
       "    }\n",
       "\n",
       "    .dataframe tbody tr th {\n",
       "        vertical-align: top;\n",
       "    }\n",
       "\n",
       "    .dataframe thead th {\n",
       "        text-align: right;\n",
       "    }\n",
       "</style>\n",
       "<table border=\"1\" class=\"dataframe\">\n",
       "  <thead>\n",
       "    <tr style=\"text-align: right;\">\n",
       "      <th></th>\n",
       "      <th>beer_brewerId</th>\n",
       "      <th>beer_abv_mean</th>\n",
       "    </tr>\n",
       "  </thead>\n",
       "  <tbody>\n",
       "    <tr>\n",
       "      <th>698</th>\n",
       "      <td>6513</td>\n",
       "      <td>19.228824</td>\n",
       "    </tr>\n",
       "    <tr>\n",
       "      <th>165</th>\n",
       "      <td>736</td>\n",
       "      <td>13.750000</td>\n",
       "    </tr>\n",
       "    <tr>\n",
       "      <th>1464</th>\n",
       "      <td>24215</td>\n",
       "      <td>12.466667</td>\n",
       "    </tr>\n",
       "  </tbody>\n",
       "</table>\n",
       "</div>"
      ],
      "text/plain": [
       "      beer_brewerId  beer_abv_mean\n",
       "698            6513      19.228824\n",
       "165             736      13.750000\n",
       "1464          24215      12.466667"
      ]
     },
     "execution_count": 202,
     "metadata": {},
     "output_type": "execute_result"
    }
   ],
   "source": [
    "data = df.groupby(['beer_brewerId'])['beer_ABV'].mean()\n",
    "strong = pd.DataFrame(data.reset_index())\n",
    "\n",
    "strong.columns = ['beer_brewerId','beer_abv_mean']\n",
    "\n",
    "strongest = strong.sort_values(by=['beer_abv_mean'], ascending=False).head(3)\n",
    "\n",
    "strongest"
   ]
  },
  {
   "cell_type": "markdown",
   "metadata": {},
   "source": [
    "## Question:2 \n",
    "Which year did beers enjoy the highest ratings?"
   ]
  },
  {
   "cell_type": "code",
   "execution_count": 203,
   "metadata": {},
   "outputs": [
    {
     "data": {
      "text/html": [
       "<div>\n",
       "<style scoped>\n",
       "    .dataframe tbody tr th:only-of-type {\n",
       "        vertical-align: middle;\n",
       "    }\n",
       "\n",
       "    .dataframe tbody tr th {\n",
       "        vertical-align: top;\n",
       "    }\n",
       "\n",
       "    .dataframe thead th {\n",
       "        text-align: right;\n",
       "    }\n",
       "</style>\n",
       "<table border=\"1\" class=\"dataframe\">\n",
       "  <thead>\n",
       "    <tr style=\"text-align: right;\">\n",
       "      <th></th>\n",
       "      <th>beer_ABV</th>\n",
       "      <th>beer_beerId</th>\n",
       "      <th>beer_brewerId</th>\n",
       "      <th>beer_name</th>\n",
       "      <th>beer_style</th>\n",
       "      <th>review_appearance</th>\n",
       "      <th>review_palette</th>\n",
       "      <th>review_overall</th>\n",
       "      <th>review_taste</th>\n",
       "      <th>review_profileName</th>\n",
       "      <th>review_aroma</th>\n",
       "      <th>review_text</th>\n",
       "      <th>review_time</th>\n",
       "      <th>review_year</th>\n",
       "    </tr>\n",
       "  </thead>\n",
       "  <tbody>\n",
       "    <tr>\n",
       "      <th>492945</th>\n",
       "      <td>6.2</td>\n",
       "      <td>1339</td>\n",
       "      <td>132</td>\n",
       "      <td>Hazelnut Brown Nectar</td>\n",
       "      <td>American Brown Ale</td>\n",
       "      <td>4.5</td>\n",
       "      <td>3.0</td>\n",
       "      <td>5.0</td>\n",
       "      <td>4.5</td>\n",
       "      <td>prosper</td>\n",
       "      <td>5.0</td>\n",
       "      <td>Served at ~15C. Gorgeous pour. Nut brown, slig...</td>\n",
       "      <td>1221003321</td>\n",
       "      <td>2008</td>\n",
       "    </tr>\n",
       "    <tr>\n",
       "      <th>172728</th>\n",
       "      <td>4.7</td>\n",
       "      <td>689</td>\n",
       "      <td>221</td>\n",
       "      <td>Red Stripe Jamaican Lager</td>\n",
       "      <td>American Adjunct Lager</td>\n",
       "      <td>5.0</td>\n",
       "      <td>3.0</td>\n",
       "      <td>5.0</td>\n",
       "      <td>4.5</td>\n",
       "      <td>AussieInPhilly</td>\n",
       "      <td>4.0</td>\n",
       "      <td>This beer is tops. The crisp, yet smooth taste...</td>\n",
       "      <td>1129192511</td>\n",
       "      <td>2005</td>\n",
       "    </tr>\n",
       "    <tr>\n",
       "      <th>409699</th>\n",
       "      <td>7.5</td>\n",
       "      <td>15881</td>\n",
       "      <td>694</td>\n",
       "      <td>Tröegs Nugget Nectar</td>\n",
       "      <td>American Amber / Red Ale</td>\n",
       "      <td>4.0</td>\n",
       "      <td>4.0</td>\n",
       "      <td>5.0</td>\n",
       "      <td>4.5</td>\n",
       "      <td>abents</td>\n",
       "      <td>4.5</td>\n",
       "      <td>Thanks to mikereaser for sending this in a tra...</td>\n",
       "      <td>1235006981</td>\n",
       "      <td>2009</td>\n",
       "    </tr>\n",
       "    <tr>\n",
       "      <th>517331</th>\n",
       "      <td>5.0</td>\n",
       "      <td>571</td>\n",
       "      <td>113</td>\n",
       "      <td>Samuel Smith's Oatmeal Stout</td>\n",
       "      <td>Oatmeal Stout</td>\n",
       "      <td>4.5</td>\n",
       "      <td>4.5</td>\n",
       "      <td>5.0</td>\n",
       "      <td>4.5</td>\n",
       "      <td>cuzinpete00</td>\n",
       "      <td>4.5</td>\n",
       "      <td>this beer is a must try. very drinkable and ve...</td>\n",
       "      <td>1203476701</td>\n",
       "      <td>2008</td>\n",
       "    </tr>\n",
       "    <tr>\n",
       "      <th>172704</th>\n",
       "      <td>4.7</td>\n",
       "      <td>689</td>\n",
       "      <td>221</td>\n",
       "      <td>Red Stripe Jamaican Lager</td>\n",
       "      <td>American Adjunct Lager</td>\n",
       "      <td>3.0</td>\n",
       "      <td>3.5</td>\n",
       "      <td>5.0</td>\n",
       "      <td>4.0</td>\n",
       "      <td>lordbrad1</td>\n",
       "      <td>5.0</td>\n",
       "      <td>I've never met anyone that didn't like this be...</td>\n",
       "      <td>1135296352</td>\n",
       "      <td>2005</td>\n",
       "    </tr>\n",
       "  </tbody>\n",
       "</table>\n",
       "</div>"
      ],
      "text/plain": [
       "        beer_ABV  beer_beerId  beer_brewerId                     beer_name  \\\n",
       "492945       6.2         1339            132         Hazelnut Brown Nectar   \n",
       "172728       4.7          689            221     Red Stripe Jamaican Lager   \n",
       "409699       7.5        15881            694          Tröegs Nugget Nectar   \n",
       "517331       5.0          571            113  Samuel Smith's Oatmeal Stout   \n",
       "172704       4.7          689            221     Red Stripe Jamaican Lager   \n",
       "\n",
       "                      beer_style  review_appearance  review_palette  \\\n",
       "492945        American Brown Ale                4.5             3.0   \n",
       "172728    American Adjunct Lager                5.0             3.0   \n",
       "409699  American Amber / Red Ale                4.0             4.0   \n",
       "517331             Oatmeal Stout                4.5             4.5   \n",
       "172704    American Adjunct Lager                3.0             3.5   \n",
       "\n",
       "        review_overall  review_taste review_profileName  review_aroma  \\\n",
       "492945             5.0           4.5            prosper           5.0   \n",
       "172728             5.0           4.5     AussieInPhilly           4.0   \n",
       "409699             5.0           4.5             abents           4.5   \n",
       "517331             5.0           4.5        cuzinpete00           4.5   \n",
       "172704             5.0           4.0          lordbrad1           5.0   \n",
       "\n",
       "                                              review_text  review_time  \\\n",
       "492945  Served at ~15C. Gorgeous pour. Nut brown, slig...   1221003321   \n",
       "172728  This beer is tops. The crisp, yet smooth taste...   1129192511   \n",
       "409699  Thanks to mikereaser for sending this in a tra...   1235006981   \n",
       "517331  this beer is a must try. very drinkable and ve...   1203476701   \n",
       "172704  I've never met anyone that didn't like this be...   1135296352   \n",
       "\n",
       "        review_year  \n",
       "492945         2008  \n",
       "172728         2005  \n",
       "409699         2009  \n",
       "517331         2008  \n",
       "172704         2005  "
      ]
     },
     "execution_count": 203,
     "metadata": {},
     "output_type": "execute_result"
    }
   ],
   "source": [
    "df.head()"
   ]
  },
  {
   "cell_type": "code",
   "execution_count": 204,
   "metadata": {},
   "outputs": [
    {
     "data": {
      "text/html": [
       "<div>\n",
       "<style scoped>\n",
       "    .dataframe tbody tr th:only-of-type {\n",
       "        vertical-align: middle;\n",
       "    }\n",
       "\n",
       "    .dataframe tbody tr th {\n",
       "        vertical-align: top;\n",
       "    }\n",
       "\n",
       "    .dataframe thead th {\n",
       "        text-align: right;\n",
       "    }\n",
       "</style>\n",
       "<table border=\"1\" class=\"dataframe\">\n",
       "  <thead>\n",
       "    <tr style=\"text-align: right;\">\n",
       "      <th></th>\n",
       "      <th>review_year</th>\n",
       "      <th>beer_beerId</th>\n",
       "      <th>review_overall</th>\n",
       "      <th>review_aroma</th>\n",
       "      <th>review_appearance</th>\n",
       "      <th>review_palette</th>\n",
       "      <th>review_taste</th>\n",
       "      <th>beer_ABV</th>\n",
       "    </tr>\n",
       "  </thead>\n",
       "  <tbody>\n",
       "    <tr>\n",
       "      <th>0</th>\n",
       "      <td>2002</td>\n",
       "      <td>1734</td>\n",
       "      <td>5.0</td>\n",
       "      <td>5.0</td>\n",
       "      <td>5.0</td>\n",
       "      <td>5.0</td>\n",
       "      <td>5.0</td>\n",
       "      <td>10.0</td>\n",
       "    </tr>\n",
       "  </tbody>\n",
       "</table>\n",
       "</div>"
      ],
      "text/plain": [
       "   review_year  beer_beerId  review_overall  review_aroma  review_appearance  \\\n",
       "0         2002         1734             5.0           5.0                5.0   \n",
       "\n",
       "   review_palette  review_taste  beer_ABV  \n",
       "0             5.0           5.0      10.0  "
      ]
     },
     "execution_count": 204,
     "metadata": {},
     "output_type": "execute_result"
    }
   ],
   "source": [
    "reviews = df.groupby('beer_beerId').agg({\n",
    "                                            'review_overall': np.mean,\n",
    "                                            'review_aroma': np.mean,\n",
    "                                            'review_appearance': np.mean,\n",
    "                                            'review_palette': np.mean,     \n",
    "                                            'review_taste': np.mean,\n",
    "                                            'beer_ABV': np.mean\n",
    "                                        })\n",
    "top_reviews = pd.DataFrame(reviews.reset_index()).sort_values(['review_overall', 'review_aroma','review_appearance','review_palette','review_taste','beer_ABV'], ascending=[False,False, False, False, False, False])\n",
    "highest_review = pd.merge(df[['review_year','beer_beerId']],top_reviews[:1],on='beer_beerId') \n",
    "highest_review"
   ]
  },
  {
   "cell_type": "code",
   "execution_count": 205,
   "metadata": {},
   "outputs": [
    {
     "name": "stdout",
     "output_type": "stream",
     "text": [
      "Year :   2002\n"
     ]
    }
   ],
   "source": [
    "print(\"Year : \",highest_review['review_year'].to_string(index=False))"
   ]
  },
  {
   "cell_type": "markdown",
   "metadata": {},
   "source": [
    "## Question:3 \n",
    "Based on the user’s ratings which factors are important among taste, aroma, appearance, and palette?"
   ]
  },
  {
   "cell_type": "code",
   "execution_count": 206,
   "metadata": {},
   "outputs": [
    {
     "data": {
      "text/html": [
       "<div>\n",
       "<style scoped>\n",
       "    .dataframe tbody tr th:only-of-type {\n",
       "        vertical-align: middle;\n",
       "    }\n",
       "\n",
       "    .dataframe tbody tr th {\n",
       "        vertical-align: top;\n",
       "    }\n",
       "\n",
       "    .dataframe thead th {\n",
       "        text-align: right;\n",
       "    }\n",
       "</style>\n",
       "<table border=\"1\" class=\"dataframe\">\n",
       "  <thead>\n",
       "    <tr style=\"text-align: right;\">\n",
       "      <th></th>\n",
       "      <th>review_overall</th>\n",
       "      <th>review_aroma</th>\n",
       "      <th>review_taste</th>\n",
       "      <th>review_appearance</th>\n",
       "      <th>review_palette</th>\n",
       "    </tr>\n",
       "  </thead>\n",
       "  <tbody>\n",
       "    <tr>\n",
       "      <th>492945</th>\n",
       "      <td>5.0</td>\n",
       "      <td>5.0</td>\n",
       "      <td>4.5</td>\n",
       "      <td>4.5</td>\n",
       "      <td>3.0</td>\n",
       "    </tr>\n",
       "    <tr>\n",
       "      <th>172728</th>\n",
       "      <td>5.0</td>\n",
       "      <td>4.0</td>\n",
       "      <td>4.5</td>\n",
       "      <td>5.0</td>\n",
       "      <td>3.0</td>\n",
       "    </tr>\n",
       "    <tr>\n",
       "      <th>409699</th>\n",
       "      <td>5.0</td>\n",
       "      <td>4.5</td>\n",
       "      <td>4.5</td>\n",
       "      <td>4.0</td>\n",
       "      <td>4.0</td>\n",
       "    </tr>\n",
       "    <tr>\n",
       "      <th>517331</th>\n",
       "      <td>5.0</td>\n",
       "      <td>4.5</td>\n",
       "      <td>4.5</td>\n",
       "      <td>4.5</td>\n",
       "      <td>4.5</td>\n",
       "    </tr>\n",
       "    <tr>\n",
       "      <th>172704</th>\n",
       "      <td>5.0</td>\n",
       "      <td>5.0</td>\n",
       "      <td>4.0</td>\n",
       "      <td>3.0</td>\n",
       "      <td>3.5</td>\n",
       "    </tr>\n",
       "  </tbody>\n",
       "</table>\n",
       "</div>"
      ],
      "text/plain": [
       "        review_overall  review_aroma  review_taste  review_appearance  \\\n",
       "492945             5.0           5.0           4.5                4.5   \n",
       "172728             5.0           4.0           4.5                5.0   \n",
       "409699             5.0           4.5           4.5                4.0   \n",
       "517331             5.0           4.5           4.5                4.5   \n",
       "172704             5.0           5.0           4.0                3.0   \n",
       "\n",
       "        review_palette  \n",
       "492945             3.0  \n",
       "172728             3.0  \n",
       "409699             4.0  \n",
       "517331             4.5  \n",
       "172704             3.5  "
      ]
     },
     "execution_count": 206,
     "metadata": {},
     "output_type": "execute_result"
    }
   ],
   "source": [
    "factors = df[['review_overall','review_aroma','review_taste','review_appearance','review_palette']]\n",
    "factors.head()"
   ]
  },
  {
   "cell_type": "code",
   "execution_count": 207,
   "metadata": {},
   "outputs": [
    {
     "data": {
      "image/png": "[encoded data removed]",
      "text/plain": [
       "<Figure size 1800x504 with 2 Axes>"
      ]
     },
     "metadata": {},
     "output_type": "display_data"
    }
   ],
   "source": [
    "sns.heatmap(factors.corr(), annot=True)\n",
    "plt.show()"
   ]
  },
  {
   "cell_type": "code",
   "execution_count": 208,
   "metadata": {},
   "outputs": [
    {
     "data": {
      "text/plain": [
       "Index(['review_aroma', 'review_taste', 'review_appearance', 'review_palette'], dtype='object')"
      ]
     },
     "execution_count": 208,
     "metadata": {},
     "output_type": "execute_result"
    }
   ],
   "source": [
    "features = factors.drop([\"review_overall\"], axis=1).columns\n",
    "features"
   ]
  },
  {
   "cell_type": "code",
   "execution_count": 209,
   "metadata": {},
   "outputs": [],
   "source": [
    "from sklearn.ensemble import RandomForestRegressor\n",
    "rnd_clf = RandomForestRegressor(n_estimators=500, n_jobs=-1, random_state=42)\n",
    "rnd_clf.fit(factors[features].values, factors[\"review_overall\"].values)\n",
    "feature_importance = rnd_clf.feature_importances_"
   ]
  },
  {
   "cell_type": "code",
   "execution_count": 210,
   "metadata": {},
   "outputs": [
    {
     "name": "stdout",
     "output_type": "stream",
     "text": [
      "review_aroma 0.9248645379952832\n",
      "review_taste 0.05626699791221676\n",
      "review_appearance 0.010016248131058496\n",
      "review_palette 0.008852215961441503\n"
     ]
    }
   ],
   "source": [
    "for name, score in zip(features, feature_importance):\n",
    "    print(name, score)"
   ]
  },
  {
   "cell_type": "code",
   "execution_count": 211,
   "metadata": {},
   "outputs": [
    {
     "data": {
      "image/png": "[encoded data removed]",
      "text/plain": [
       "<Figure size 1800x504 with 1 Axes>"
      ]
     },
     "metadata": {},
     "output_type": "display_data"
    }
   ],
   "source": [
    "indices = np.argsort(feature_importance)\n",
    "plt.title('Feature Importances')\n",
    "plt.barh(range(len(indices)), feature_importance[indices], color='b', align='center')\n",
    "plt.yticks(range(len(indices)), features[indices])\n",
    "plt.xlabel('Relative Importance')\n",
    "plt.show()"
   ]
  },
  {
   "cell_type": "markdown",
   "metadata": {},
   "source": [
    "## Question:4 \n",
    "If you were to recommend 3 beers to your friends based on this data which ones will you recommend?"
   ]
  },
  {
   "cell_type": "code",
   "execution_count": 212,
   "metadata": {},
   "outputs": [
    {
     "name": "stdout",
     "output_type": "stream",
     "text": [
      "<class 'pandas.core.frame.DataFrame'>\n",
      "Int64Index: 502769 entries, 492945 to 39638\n",
      "Data columns (total 14 columns):\n",
      " #   Column              Non-Null Count   Dtype  \n",
      "---  ------              --------------   -----  \n",
      " 0   beer_ABV            502769 non-null  float64\n",
      " 1   beer_beerId         502769 non-null  int64  \n",
      " 2   beer_brewerId       502769 non-null  int64  \n",
      " 3   beer_name           502769 non-null  object \n",
      " 4   beer_style          502769 non-null  object \n",
      " 5   review_appearance   502769 non-null  float64\n",
      " 6   review_palette      502769 non-null  float64\n",
      " 7   review_overall      502769 non-null  float64\n",
      " 8   review_taste        502769 non-null  float64\n",
      " 9   review_profileName  502769 non-null  object \n",
      " 10  review_aroma        502769 non-null  float64\n",
      " 11  review_text         502769 non-null  object \n",
      " 12  review_time         502769 non-null  int64  \n",
      " 13  review_year         502769 non-null  int64  \n",
      "dtypes: float64(6), int64(4), object(4)\n",
      "memory usage: 57.5+ MB\n"
     ]
    }
   ],
   "source": [
    "df.info()"
   ]
  },
  {
   "cell_type": "code",
   "execution_count": 213,
   "metadata": {},
   "outputs": [
    {
     "data": {
      "text/html": [
       "<div>\n",
       "<style scoped>\n",
       "    .dataframe tbody tr th:only-of-type {\n",
       "        vertical-align: middle;\n",
       "    }\n",
       "\n",
       "    .dataframe tbody tr th {\n",
       "        vertical-align: top;\n",
       "    }\n",
       "\n",
       "    .dataframe thead th {\n",
       "        text-align: right;\n",
       "    }\n",
       "</style>\n",
       "<table border=\"1\" class=\"dataframe\">\n",
       "  <thead>\n",
       "    <tr style=\"text-align: right;\">\n",
       "      <th></th>\n",
       "      <th>beer_beerId</th>\n",
       "      <th>review_overall</th>\n",
       "      <th>review_aroma</th>\n",
       "      <th>review_appearance</th>\n",
       "      <th>review_palette</th>\n",
       "      <th>review_taste</th>\n",
       "      <th>beer_ABV</th>\n",
       "      <th>beer_name</th>\n",
       "      <th>beer_style</th>\n",
       "    </tr>\n",
       "  </thead>\n",
       "  <tbody>\n",
       "    <tr>\n",
       "      <th>0</th>\n",
       "      <td>1734</td>\n",
       "      <td>5.0</td>\n",
       "      <td>5.0</td>\n",
       "      <td>5.0</td>\n",
       "      <td>5.0</td>\n",
       "      <td>5.0</td>\n",
       "      <td>10.0</td>\n",
       "      <td>Edsten Triple-Wit</td>\n",
       "      <td>Belgian Strong Pale Ale</td>\n",
       "    </tr>\n",
       "    <tr>\n",
       "      <th>1</th>\n",
       "      <td>29423</td>\n",
       "      <td>5.0</td>\n",
       "      <td>5.0</td>\n",
       "      <td>5.0</td>\n",
       "      <td>5.0</td>\n",
       "      <td>5.0</td>\n",
       "      <td>9.5</td>\n",
       "      <td>Old Gander Barley Wine</td>\n",
       "      <td>American Barleywine</td>\n",
       "    </tr>\n",
       "    <tr>\n",
       "      <th>2</th>\n",
       "      <td>45944</td>\n",
       "      <td>5.0</td>\n",
       "      <td>5.0</td>\n",
       "      <td>5.0</td>\n",
       "      <td>5.0</td>\n",
       "      <td>5.0</td>\n",
       "      <td>9.0</td>\n",
       "      <td>Rogue Black Brutal</td>\n",
       "      <td>Schwarzbier</td>\n",
       "    </tr>\n",
       "  </tbody>\n",
       "</table>\n",
       "</div>"
      ],
      "text/plain": [
       "   beer_beerId  review_overall  review_aroma  review_appearance  \\\n",
       "0         1734             5.0           5.0                5.0   \n",
       "1        29423             5.0           5.0                5.0   \n",
       "2        45944             5.0           5.0                5.0   \n",
       "\n",
       "   review_palette  review_taste  beer_ABV               beer_name  \\\n",
       "0             5.0           5.0      10.0       Edsten Triple-Wit   \n",
       "1             5.0           5.0       9.5  Old Gander Barley Wine   \n",
       "2             5.0           5.0       9.0      Rogue Black Brutal   \n",
       "\n",
       "                beer_style  \n",
       "0  Belgian Strong Pale Ale  \n",
       "1      American Barleywine  \n",
       "2              Schwarzbier  "
      ]
     },
     "execution_count": 213,
     "metadata": {},
     "output_type": "execute_result"
    }
   ],
   "source": [
    "\"\"\"\n",
    "I will pick the 3 beers based on the mean of the\n",
    "1) review_overall, \n",
    "2) review_aroma, \n",
    "3) review_appearance \n",
    "4) review_palate, \n",
    "5) review_taste\n",
    "6) beer_ABV\n",
    "\"\"\"\n",
    "reviews = df.groupby('beer_beerId').agg({\n",
    "                                            'review_overall': np.mean,\n",
    "                                            'review_aroma': np.mean,\n",
    "                                            'review_appearance': np.mean,\n",
    "                                            'review_palette': np.mean,     \n",
    "                                            'review_taste': np.mean,\n",
    "                                            'beer_ABV': np.mean\n",
    "                                        })\n",
    "recommended_beers = pd.DataFrame(reviews.reset_index()).sort_values(['review_overall', 'review_aroma','review_appearance','review_palette','review_taste','beer_ABV'], ascending=[False,False, False, False, False, False])\n",
    "top_rated_beers = pd.merge(recommended_beers[:3],df[['beer_beerId','beer_name','beer_style']],on='beer_beerId') \n",
    "top_rated_beers"
   ]
  },
  {
   "cell_type": "markdown",
   "metadata": {},
   "source": [
    "## Question:5 \n",
    "Which Beer style seems to be the favorite based on reviews written by users?"
   ]
  },
  {
   "cell_type": "code",
   "execution_count": 214,
   "metadata": {},
   "outputs": [
    {
     "name": "stdout",
     "output_type": "stream",
     "text": [
      "Favorite Bear Style Based on Users Review is :   Belgian Strong Pale Ale\n"
     ]
    }
   ],
   "source": [
    "print(\"Favorite Bear Style Based on Users Review is : \",top_rated_beers['beer_style'][:1].to_string(index=False))"
   ]
  },
  {
   "cell_type": "code",
   "execution_count": 215,
   "metadata": {},
   "outputs": [
    {
     "data": {
      "text/html": [
       "<div>\n",
       "<style scoped>\n",
       "    .dataframe tbody tr th:only-of-type {\n",
       "        vertical-align: middle;\n",
       "    }\n",
       "\n",
       "    .dataframe tbody tr th {\n",
       "        vertical-align: top;\n",
       "    }\n",
       "\n",
       "    .dataframe thead th {\n",
       "        text-align: right;\n",
       "    }\n",
       "</style>\n",
       "<table border=\"1\" class=\"dataframe\">\n",
       "  <thead>\n",
       "    <tr style=\"text-align: right;\">\n",
       "      <th></th>\n",
       "      <th>review_overall</th>\n",
       "      <th>review_aroma</th>\n",
       "      <th>review_appearance</th>\n",
       "      <th>review_palette</th>\n",
       "      <th>review_taste</th>\n",
       "      <th>beer_ABV</th>\n",
       "      <th>beer_style</th>\n",
       "    </tr>\n",
       "  </thead>\n",
       "  <tbody>\n",
       "    <tr>\n",
       "      <th>492945</th>\n",
       "      <td>5.0</td>\n",
       "      <td>5.0</td>\n",
       "      <td>4.5</td>\n",
       "      <td>3.0</td>\n",
       "      <td>4.5</td>\n",
       "      <td>6.2</td>\n",
       "      <td>American Brown Ale</td>\n",
       "    </tr>\n",
       "    <tr>\n",
       "      <th>172728</th>\n",
       "      <td>5.0</td>\n",
       "      <td>4.0</td>\n",
       "      <td>5.0</td>\n",
       "      <td>3.0</td>\n",
       "      <td>4.5</td>\n",
       "      <td>4.7</td>\n",
       "      <td>American Adjunct Lager</td>\n",
       "    </tr>\n",
       "    <tr>\n",
       "      <th>409699</th>\n",
       "      <td>5.0</td>\n",
       "      <td>4.5</td>\n",
       "      <td>4.0</td>\n",
       "      <td>4.0</td>\n",
       "      <td>4.5</td>\n",
       "      <td>7.5</td>\n",
       "      <td>American Amber / Red Ale</td>\n",
       "    </tr>\n",
       "    <tr>\n",
       "      <th>517331</th>\n",
       "      <td>5.0</td>\n",
       "      <td>4.5</td>\n",
       "      <td>4.5</td>\n",
       "      <td>4.5</td>\n",
       "      <td>4.5</td>\n",
       "      <td>5.0</td>\n",
       "      <td>Oatmeal Stout</td>\n",
       "    </tr>\n",
       "    <tr>\n",
       "      <th>172704</th>\n",
       "      <td>5.0</td>\n",
       "      <td>5.0</td>\n",
       "      <td>3.0</td>\n",
       "      <td>3.5</td>\n",
       "      <td>4.0</td>\n",
       "      <td>4.7</td>\n",
       "      <td>American Adjunct Lager</td>\n",
       "    </tr>\n",
       "  </tbody>\n",
       "</table>\n",
       "</div>"
      ],
      "text/plain": [
       "        review_overall  review_aroma  review_appearance  review_palette  \\\n",
       "492945             5.0           5.0                4.5             3.0   \n",
       "172728             5.0           4.0                5.0             3.0   \n",
       "409699             5.0           4.5                4.0             4.0   \n",
       "517331             5.0           4.5                4.5             4.5   \n",
       "172704             5.0           5.0                3.0             3.5   \n",
       "\n",
       "        review_taste  beer_ABV                beer_style  \n",
       "492945           4.5       6.2        American Brown Ale  \n",
       "172728           4.5       4.7    American Adjunct Lager  \n",
       "409699           4.5       7.5  American Amber / Red Ale  \n",
       "517331           4.5       5.0             Oatmeal Stout  \n",
       "172704           4.0       4.7    American Adjunct Lager  "
      ]
     },
     "execution_count": 215,
     "metadata": {},
     "output_type": "execute_result"
    }
   ],
   "source": [
    "enjoy = df[['review_overall','review_aroma','review_appearance','review_palette','review_taste','beer_ABV','beer_style']]\n",
    "enjoy.head()"
   ]
  },
  {
   "cell_type": "code",
   "execution_count": 216,
   "metadata": {},
   "outputs": [
    {
     "data": {
      "text/html": [
       "<div>\n",
       "<style scoped>\n",
       "    .dataframe tbody tr th:only-of-type {\n",
       "        vertical-align: middle;\n",
       "    }\n",
       "\n",
       "    .dataframe tbody tr th {\n",
       "        vertical-align: top;\n",
       "    }\n",
       "\n",
       "    .dataframe thead th {\n",
       "        text-align: right;\n",
       "    }\n",
       "</style>\n",
       "<table border=\"1\" class=\"dataframe\">\n",
       "  <thead>\n",
       "    <tr style=\"text-align: right;\">\n",
       "      <th></th>\n",
       "      <th>beer_style</th>\n",
       "      <th>review_overall_max</th>\n",
       "      <th>review_aroma_max</th>\n",
       "      <th>review_appearance_max</th>\n",
       "      <th>review_palette_max</th>\n",
       "      <th>review_taste_max</th>\n",
       "      <th>beer_ABV_max</th>\n",
       "      <th>review_overall_mean</th>\n",
       "      <th>review_aroma_mean</th>\n",
       "      <th>review_appearance_mean</th>\n",
       "      <th>review_palette_mean</th>\n",
       "      <th>review_taste_mean</th>\n",
       "      <th>beer_ABV_mean</th>\n",
       "      <th>review_overall_count</th>\n",
       "      <th>review_aroma_count</th>\n",
       "      <th>review_appearance_count</th>\n",
       "      <th>review_palette_count</th>\n",
       "      <th>review_taste_count</th>\n",
       "      <th>beer_ABV_count</th>\n",
       "    </tr>\n",
       "  </thead>\n",
       "  <tbody>\n",
       "    <tr>\n",
       "      <th>0</th>\n",
       "      <td>Altbier</td>\n",
       "      <td>5.0</td>\n",
       "      <td>5.0</td>\n",
       "      <td>5.0</td>\n",
       "      <td>5.0</td>\n",
       "      <td>5.0</td>\n",
       "      <td>10.0</td>\n",
       "      <td>3.880986</td>\n",
       "      <td>3.820268</td>\n",
       "      <td>3.826539</td>\n",
       "      <td>3.693273</td>\n",
       "      <td>3.776226</td>\n",
       "      <td>5.949969</td>\n",
       "      <td>3508.0</td>\n",
       "      <td>3508.0</td>\n",
       "      <td>3508.0</td>\n",
       "      <td>3508.0</td>\n",
       "      <td>3508.0</td>\n",
       "      <td>3508.0</td>\n",
       "    </tr>\n",
       "    <tr>\n",
       "      <th>1</th>\n",
       "      <td>American Adjunct Lager</td>\n",
       "      <td>5.0</td>\n",
       "      <td>5.0</td>\n",
       "      <td>5.0</td>\n",
       "      <td>5.0</td>\n",
       "      <td>5.0</td>\n",
       "      <td>10.0</td>\n",
       "      <td>3.136854</td>\n",
       "      <td>2.812303</td>\n",
       "      <td>2.857472</td>\n",
       "      <td>2.575337</td>\n",
       "      <td>2.834494</td>\n",
       "      <td>4.846145</td>\n",
       "      <td>8900.0</td>\n",
       "      <td>8900.0</td>\n",
       "      <td>8900.0</td>\n",
       "      <td>8900.0</td>\n",
       "      <td>8900.0</td>\n",
       "      <td>8900.0</td>\n",
       "    </tr>\n",
       "    <tr>\n",
       "      <th>2</th>\n",
       "      <td>American Amber / Red Ale</td>\n",
       "      <td>5.0</td>\n",
       "      <td>5.0</td>\n",
       "      <td>5.0</td>\n",
       "      <td>5.0</td>\n",
       "      <td>5.0</td>\n",
       "      <td>13.0</td>\n",
       "      <td>3.878903</td>\n",
       "      <td>3.813247</td>\n",
       "      <td>3.900779</td>\n",
       "      <td>3.754892</td>\n",
       "      <td>3.753737</td>\n",
       "      <td>6.244191</td>\n",
       "      <td>17325.0</td>\n",
       "      <td>17325.0</td>\n",
       "      <td>17325.0</td>\n",
       "      <td>17325.0</td>\n",
       "      <td>17325.0</td>\n",
       "      <td>17325.0</td>\n",
       "    </tr>\n",
       "    <tr>\n",
       "      <th>3</th>\n",
       "      <td>American Amber / Red Lager</td>\n",
       "      <td>5.0</td>\n",
       "      <td>5.0</td>\n",
       "      <td>5.0</td>\n",
       "      <td>5.0</td>\n",
       "      <td>5.0</td>\n",
       "      <td>7.8</td>\n",
       "      <td>3.395969</td>\n",
       "      <td>3.177741</td>\n",
       "      <td>3.375272</td>\n",
       "      <td>3.042484</td>\n",
       "      <td>3.156863</td>\n",
       "      <td>4.897894</td>\n",
       "      <td>2754.0</td>\n",
       "      <td>2754.0</td>\n",
       "      <td>2754.0</td>\n",
       "      <td>2754.0</td>\n",
       "      <td>2754.0</td>\n",
       "      <td>2754.0</td>\n",
       "    </tr>\n",
       "    <tr>\n",
       "      <th>4</th>\n",
       "      <td>American Barleywine</td>\n",
       "      <td>5.0</td>\n",
       "      <td>5.0</td>\n",
       "      <td>5.0</td>\n",
       "      <td>5.0</td>\n",
       "      <td>5.0</td>\n",
       "      <td>18.0</td>\n",
       "      <td>3.921748</td>\n",
       "      <td>4.089597</td>\n",
       "      <td>4.110768</td>\n",
       "      <td>4.059664</td>\n",
       "      <td>4.046242</td>\n",
       "      <td>10.305888</td>\n",
       "      <td>9872.0</td>\n",
       "      <td>9872.0</td>\n",
       "      <td>9872.0</td>\n",
       "      <td>9872.0</td>\n",
       "      <td>9872.0</td>\n",
       "      <td>9872.0</td>\n",
       "    </tr>\n",
       "  </tbody>\n",
       "</table>\n",
       "</div>"
      ],
      "text/plain": [
       "                   beer_style  review_overall_max  review_aroma_max  \\\n",
       "0                     Altbier                 5.0               5.0   \n",
       "1      American Adjunct Lager                 5.0               5.0   \n",
       "2    American Amber / Red Ale                 5.0               5.0   \n",
       "3  American Amber / Red Lager                 5.0               5.0   \n",
       "4         American Barleywine                 5.0               5.0   \n",
       "\n",
       "   review_appearance_max  review_palette_max  review_taste_max  beer_ABV_max  \\\n",
       "0                    5.0                 5.0               5.0          10.0   \n",
       "1                    5.0                 5.0               5.0          10.0   \n",
       "2                    5.0                 5.0               5.0          13.0   \n",
       "3                    5.0                 5.0               5.0           7.8   \n",
       "4                    5.0                 5.0               5.0          18.0   \n",
       "\n",
       "   review_overall_mean  review_aroma_mean  review_appearance_mean  \\\n",
       "0             3.880986           3.820268                3.826539   \n",
       "1             3.136854           2.812303                2.857472   \n",
       "2             3.878903           3.813247                3.900779   \n",
       "3             3.395969           3.177741                3.375272   \n",
       "4             3.921748           4.089597                4.110768   \n",
       "\n",
       "   review_palette_mean  review_taste_mean  beer_ABV_mean  \\\n",
       "0             3.693273           3.776226       5.949969   \n",
       "1             2.575337           2.834494       4.846145   \n",
       "2             3.754892           3.753737       6.244191   \n",
       "3             3.042484           3.156863       4.897894   \n",
       "4             4.059664           4.046242      10.305888   \n",
       "\n",
       "   review_overall_count  review_aroma_count  review_appearance_count  \\\n",
       "0                3508.0              3508.0                   3508.0   \n",
       "1                8900.0              8900.0                   8900.0   \n",
       "2               17325.0             17325.0                  17325.0   \n",
       "3                2754.0              2754.0                   2754.0   \n",
       "4                9872.0              9872.0                   9872.0   \n",
       "\n",
       "   review_palette_count  review_taste_count  beer_ABV_count  \n",
       "0                3508.0              3508.0          3508.0  \n",
       "1                8900.0              8900.0          8900.0  \n",
       "2               17325.0             17325.0         17325.0  \n",
       "3                2754.0              2754.0          2754.0  \n",
       "4                9872.0              9872.0          9872.0  "
      ]
     },
     "execution_count": 216,
     "metadata": {},
     "output_type": "execute_result"
    }
   ],
   "source": [
    "enjoy_beer1 = enjoy.groupby('beer_style').agg({\n",
    "                                            'review_overall': np.mean,\n",
    "                                            'review_aroma': np.mean,\n",
    "                                            'review_appearance': np.mean,\n",
    "                                            'review_palette': np.mean,     \n",
    "                                            'review_taste': np.mean,\n",
    "                                            'beer_ABV': np.mean\n",
    "                                            })\n",
    "enjoy_beer1 = pd.DataFrame(enjoy_beer1.reset_index())\n",
    "enjoy_beer1.columns = ['beer_style','review_overall_mean','review_aroma_mean','review_appearance_mean','review_palette_mean','review_taste_mean','beer_ABV_mean']\n",
    "\n",
    "enjoy_beer2 = enjoy.groupby('beer_style').agg({\n",
    "                                            'review_overall': np.max,\n",
    "                                            'review_aroma': np.max,\n",
    "                                            'review_appearance': np.max,\n",
    "                                            'review_palette': np.max,     \n",
    "                                            'review_taste': np.max,\n",
    "                                            'beer_ABV': np.max\n",
    "                                            })\n",
    "enjoy_beer2 = pd.DataFrame(enjoy_beer2.reset_index())\n",
    "enjoy_beer2.columns = ['beer_style','review_overall_max','review_aroma_max','review_appearance_max','review_palette_max','review_taste_max','beer_ABV_max']\n",
    "\n",
    "enjoy_beer3 = enjoy.groupby('beer_style').agg({\n",
    "                                            'review_overall': np.size,\n",
    "                                            'review_aroma': np.size,\n",
    "                                            'review_appearance': np.size,\n",
    "                                            'review_palette': np.size,     \n",
    "                                            'review_taste': np.size,\n",
    "                                            'beer_ABV': np.size                                        \n",
    "                                            })\n",
    "enjoy_beer3 = pd.DataFrame(enjoy_beer3.reset_index())\n",
    "enjoy_beer3.columns = ['beer_style','review_overall_count','review_aroma_count','review_appearance_count','review_palette_count','review_taste_count','beer_ABV_count']\n",
    "\n",
    "enjoy_beer = pd.merge(pd.merge(enjoy_beer2, enjoy_beer1, on='beer_style'),enjoy_beer3, on='beer_style')\n",
    "enjoy_beer.head()"
   ]
  },
  {
   "cell_type": "code",
   "execution_count": 217,
   "metadata": {},
   "outputs": [],
   "source": [
    "recomd = enjoy_beer.sort_values([\n",
    "                                'review_overall_count','review_aroma_count','review_appearance_count','review_palette_count','review_taste_count','beer_ABV_count',\n",
    "                                'review_overall_mean','review_aroma_mean','review_appearance_mean','review_palette_mean','review_taste_mean','beer_ABV_mean',\n",
    "                                'review_overall_max','review_aroma_max','review_appearance_max','review_palette_max','review_taste_max','beer_ABV_max'\n",
    "                                ], ascending=[False, False,False, False, False, False,False, False,False, False, False, False,False, False,False, False, False, False])\n",
    "top = recomd[:5]['beer_style']"
   ]
  },
  {
   "cell_type": "code",
   "execution_count": 218,
   "metadata": {},
   "outputs": [
    {
     "data": {
      "text/plain": [
       "12                        American IPA\n",
       "9       American Double / Imperial IPA\n",
       "11    American Double / Imperial Stout\n",
       "14             American Pale Ale (APA)\n",
       "2             American Amber / Red Ale\n",
       "Name: beer_style, dtype: object"
      ]
     },
     "execution_count": 218,
     "metadata": {},
     "output_type": "execute_result"
    }
   ],
   "source": [
    "top"
   ]
  },
  {
   "cell_type": "markdown",
   "metadata": {},
   "source": [
    "## Question:6 \n",
    "How does written review compare to overall review score for the beer styles?"
   ]
  },
  {
   "cell_type": "code",
   "execution_count": 220,
   "metadata": {},
   "outputs": [
    {
     "data": {
      "text/html": [
       "<div>\n",
       "<style scoped>\n",
       "    .dataframe tbody tr th:only-of-type {\n",
       "        vertical-align: middle;\n",
       "    }\n",
       "\n",
       "    .dataframe tbody tr th {\n",
       "        vertical-align: top;\n",
       "    }\n",
       "\n",
       "    .dataframe thead th {\n",
       "        text-align: right;\n",
       "    }\n",
       "</style>\n",
       "<table border=\"1\" class=\"dataframe\">\n",
       "  <thead>\n",
       "    <tr style=\"text-align: right;\">\n",
       "      <th></th>\n",
       "      <th>beer_style</th>\n",
       "      <th>review_overall</th>\n",
       "      <th>review_aroma</th>\n",
       "      <th>review_appearance</th>\n",
       "      <th>review_palette</th>\n",
       "      <th>review_taste</th>\n",
       "      <th>beer_ABV</th>\n",
       "    </tr>\n",
       "  </thead>\n",
       "  <tbody>\n",
       "    <tr>\n",
       "      <th>63</th>\n",
       "      <td>Gueuze</td>\n",
       "      <td>4.139513</td>\n",
       "      <td>4.192110</td>\n",
       "      <td>4.011867</td>\n",
       "      <td>4.147851</td>\n",
       "      <td>4.086915</td>\n",
       "      <td>5.146761</td>\n",
       "    </tr>\n",
       "    <tr>\n",
       "      <th>27</th>\n",
       "      <td>Berliner Weissbier</td>\n",
       "      <td>4.124242</td>\n",
       "      <td>3.966667</td>\n",
       "      <td>3.846970</td>\n",
       "      <td>3.840152</td>\n",
       "      <td>3.943939</td>\n",
       "      <td>4.181591</td>\n",
       "    </tr>\n",
       "    <tr>\n",
       "      <th>11</th>\n",
       "      <td>American Double / Imperial Stout</td>\n",
       "      <td>4.101586</td>\n",
       "      <td>4.262178</td>\n",
       "      <td>4.217562</td>\n",
       "      <td>4.235435</td>\n",
       "      <td>4.168521</td>\n",
       "      <td>10.149624</td>\n",
       "    </tr>\n",
       "    <tr>\n",
       "      <th>83</th>\n",
       "      <td>Oatmeal Stout</td>\n",
       "      <td>4.095110</td>\n",
       "      <td>4.114259</td>\n",
       "      <td>4.180567</td>\n",
       "      <td>3.964314</td>\n",
       "      <td>4.031255</td>\n",
       "      <td>5.803926</td>\n",
       "    </tr>\n",
       "    <tr>\n",
       "      <th>41</th>\n",
       "      <td>Eisbock</td>\n",
       "      <td>4.082902</td>\n",
       "      <td>4.199482</td>\n",
       "      <td>3.971503</td>\n",
       "      <td>4.069948</td>\n",
       "      <td>4.119171</td>\n",
       "      <td>12.568290</td>\n",
       "    </tr>\n",
       "  </tbody>\n",
       "</table>\n",
       "</div>"
      ],
      "text/plain": [
       "                          beer_style  review_overall  review_aroma  \\\n",
       "63                            Gueuze        4.139513      4.192110   \n",
       "27                Berliner Weissbier        4.124242      3.966667   \n",
       "11  American Double / Imperial Stout        4.101586      4.262178   \n",
       "83                     Oatmeal Stout        4.095110      4.114259   \n",
       "41                           Eisbock        4.082902      4.199482   \n",
       "\n",
       "    review_appearance  review_palette  review_taste   beer_ABV  \n",
       "63           4.011867        4.147851      4.086915   5.146761  \n",
       "27           3.846970        3.840152      3.943939   4.181591  \n",
       "11           4.217562        4.235435      4.168521  10.149624  \n",
       "83           4.180567        3.964314      4.031255   5.803926  \n",
       "41           3.971503        4.069948      4.119171  12.568290  "
      ]
     },
     "execution_count": 220,
     "metadata": {},
     "output_type": "execute_result"
    }
   ],
   "source": [
    "reviews_all = df.groupby('beer_style').agg({\n",
    "                                            'review_overall': np.mean,\n",
    "                                            'review_aroma': np.mean,\n",
    "                                            'review_appearance': np.mean,\n",
    "                                            'review_palette': np.mean,     \n",
    "                                            'review_taste': np.mean,\n",
    "                                            'beer_ABV': np.mean\n",
    "                                        })\n",
    "review_score_beerstyle = pd.DataFrame(reviews_all.reset_index()).sort_values(['review_overall', 'review_aroma','review_appearance','review_palette','review_taste','beer_ABV'], ascending=[False,False, False, False, False, False])\n",
    "review_score_beerstyle.head()"
   ]
  },
  {
   "cell_type": "markdown",
   "metadata": {},
   "source": [
    "## Question:7 \n",
    "How do find similar beer drinkers by using written reviews only?"
   ]
  },
  {
   "cell_type": "code",
   "execution_count": 245,
   "metadata": {},
   "outputs": [
    {
     "data": {
      "text/html": [
       "<div>\n",
       "<style scoped>\n",
       "    .dataframe tbody tr th:only-of-type {\n",
       "        vertical-align: middle;\n",
       "    }\n",
       "\n",
       "    .dataframe tbody tr th {\n",
       "        vertical-align: top;\n",
       "    }\n",
       "\n",
       "    .dataframe thead th {\n",
       "        text-align: right;\n",
       "    }\n",
       "</style>\n",
       "<table border=\"1\" class=\"dataframe\">\n",
       "  <thead>\n",
       "    <tr style=\"text-align: right;\">\n",
       "      <th></th>\n",
       "      <th>beer_beerId</th>\n",
       "      <th>review_profileName</th>\n",
       "      <th>review_overall</th>\n",
       "    </tr>\n",
       "  </thead>\n",
       "  <tbody>\n",
       "    <tr>\n",
       "      <th>492945</th>\n",
       "      <td>1339</td>\n",
       "      <td>prosper</td>\n",
       "      <td>5.0</td>\n",
       "    </tr>\n",
       "    <tr>\n",
       "      <th>172728</th>\n",
       "      <td>689</td>\n",
       "      <td>AussieInPhilly</td>\n",
       "      <td>5.0</td>\n",
       "    </tr>\n",
       "    <tr>\n",
       "      <th>409699</th>\n",
       "      <td>15881</td>\n",
       "      <td>abents</td>\n",
       "      <td>5.0</td>\n",
       "    </tr>\n",
       "    <tr>\n",
       "      <th>517331</th>\n",
       "      <td>571</td>\n",
       "      <td>cuzinpete00</td>\n",
       "      <td>5.0</td>\n",
       "    </tr>\n",
       "    <tr>\n",
       "      <th>172704</th>\n",
       "      <td>689</td>\n",
       "      <td>lordbrad1</td>\n",
       "      <td>5.0</td>\n",
       "    </tr>\n",
       "  </tbody>\n",
       "</table>\n",
       "</div>"
      ],
      "text/plain": [
       "        beer_beerId review_profileName  review_overall\n",
       "492945         1339            prosper             5.0\n",
       "172728          689     AussieInPhilly             5.0\n",
       "409699        15881             abents             5.0\n",
       "517331          571        cuzinpete00             5.0\n",
       "172704          689          lordbrad1             5.0"
      ]
     },
     "execution_count": 245,
     "metadata": {},
     "output_type": "execute_result"
    }
   ],
   "source": [
    "ratings = df[['beer_beerId','review_profileName','review_overall']]\n",
    "ratings.head()"
   ]
  },
  {
   "cell_type": "code",
   "execution_count": 246,
   "metadata": {},
   "outputs": [
    {
     "data": {
      "text/plain": [
       "4.0    187460\n",
       "4.5    106785\n",
       "3.5     93270\n",
       "3.0     50180\n",
       "5.0     30092\n",
       "2.5     17205\n",
       "2.0     11047\n",
       "1.5      3663\n",
       "1.0      3064\n",
       "0.0         3\n",
       "Name: review_overall, dtype: int64"
      ]
     },
     "execution_count": 246,
     "metadata": {},
     "output_type": "execute_result"
    }
   ],
   "source": [
    "#checking review count for each rating\n",
    "ratings['review_overall'].value_counts()"
   ]
  },
  {
   "cell_type": "code",
   "execution_count": 247,
   "metadata": {},
   "outputs": [
    {
     "data": {
      "text/html": [
       "<div>\n",
       "<style scoped>\n",
       "    .dataframe tbody tr th:only-of-type {\n",
       "        vertical-align: middle;\n",
       "    }\n",
       "\n",
       "    .dataframe tbody tr th {\n",
       "        vertical-align: top;\n",
       "    }\n",
       "\n",
       "    .dataframe thead th {\n",
       "        text-align: right;\n",
       "    }\n",
       "</style>\n",
       "<table border=\"1\" class=\"dataframe\">\n",
       "  <thead>\n",
       "    <tr style=\"text-align: right;\">\n",
       "      <th></th>\n",
       "      <th>Reviews_count</th>\n",
       "    </tr>\n",
       "    <tr>\n",
       "      <th>beer_beerId</th>\n",
       "      <th></th>\n",
       "    </tr>\n",
       "  </thead>\n",
       "  <tbody>\n",
       "    <tr>\n",
       "      <th>1904</th>\n",
       "      <td>2928</td>\n",
       "    </tr>\n",
       "    <tr>\n",
       "      <th>276</th>\n",
       "      <td>2525</td>\n",
       "    </tr>\n",
       "    <tr>\n",
       "      <th>34</th>\n",
       "      <td>2477</td>\n",
       "    </tr>\n",
       "    <tr>\n",
       "      <th>2671</th>\n",
       "      <td>2443</td>\n",
       "    </tr>\n",
       "    <tr>\n",
       "      <th>11757</th>\n",
       "      <td>2443</td>\n",
       "    </tr>\n",
       "  </tbody>\n",
       "</table>\n",
       "</div>"
      ],
      "text/plain": [
       "             Reviews_count\n",
       "beer_beerId               \n",
       "1904                  2928\n",
       "276                   2525\n",
       "34                    2477\n",
       "2671                  2443\n",
       "11757                 2443"
      ]
     },
     "execution_count": 247,
     "metadata": {},
     "output_type": "execute_result"
    }
   ],
   "source": [
    "reviews_count_beer_id = ratings.groupby('beer_beerId')['review_overall'].count().to_frame('Reviews_count').sort_values(by = \"Reviews_count\", ascending=False)\n",
    "reviews_count_beer_id.head()"
   ]
  },
  {
   "cell_type": "code",
   "execution_count": 248,
   "metadata": {},
   "outputs": [],
   "source": [
    "reviews_count_beer_id.reset_index(inplace=True)"
   ]
  },
  {
   "cell_type": "code",
   "execution_count": 249,
   "metadata": {},
   "outputs": [
    {
     "data": {
      "text/html": [
       "<div>\n",
       "<style scoped>\n",
       "    .dataframe tbody tr th:only-of-type {\n",
       "        vertical-align: middle;\n",
       "    }\n",
       "\n",
       "    .dataframe tbody tr th {\n",
       "        vertical-align: top;\n",
       "    }\n",
       "\n",
       "    .dataframe thead th {\n",
       "        text-align: right;\n",
       "    }\n",
       "</style>\n",
       "<table border=\"1\" class=\"dataframe\">\n",
       "  <thead>\n",
       "    <tr style=\"text-align: right;\">\n",
       "      <th></th>\n",
       "      <th>beer_beerId</th>\n",
       "      <th>Reviews_count</th>\n",
       "    </tr>\n",
       "  </thead>\n",
       "  <tbody>\n",
       "    <tr>\n",
       "      <th>0</th>\n",
       "      <td>1904</td>\n",
       "      <td>2928</td>\n",
       "    </tr>\n",
       "    <tr>\n",
       "      <th>1</th>\n",
       "      <td>276</td>\n",
       "      <td>2525</td>\n",
       "    </tr>\n",
       "    <tr>\n",
       "      <th>2</th>\n",
       "      <td>34</td>\n",
       "      <td>2477</td>\n",
       "    </tr>\n",
       "    <tr>\n",
       "      <th>3</th>\n",
       "      <td>2671</td>\n",
       "      <td>2443</td>\n",
       "    </tr>\n",
       "    <tr>\n",
       "      <th>4</th>\n",
       "      <td>11757</td>\n",
       "      <td>2443</td>\n",
       "    </tr>\n",
       "  </tbody>\n",
       "</table>\n",
       "</div>"
      ],
      "text/plain": [
       "   beer_beerId  Reviews_count\n",
       "0         1904           2928\n",
       "1          276           2525\n",
       "2           34           2477\n",
       "3         2671           2443\n",
       "4        11757           2443"
      ]
     },
     "execution_count": 249,
     "metadata": {},
     "output_type": "execute_result"
    }
   ],
   "source": [
    "reviews_count_beer_id.head()"
   ]
  },
  {
   "cell_type": "code",
   "execution_count": 250,
   "metadata": {},
   "outputs": [
    {
     "data": {
      "text/html": [
       "<div>\n",
       "<style scoped>\n",
       "    .dataframe tbody tr th:only-of-type {\n",
       "        vertical-align: middle;\n",
       "    }\n",
       "\n",
       "    .dataframe tbody tr th {\n",
       "        vertical-align: top;\n",
       "    }\n",
       "\n",
       "    .dataframe thead th {\n",
       "        text-align: right;\n",
       "    }\n",
       "</style>\n",
       "<table border=\"1\" class=\"dataframe\">\n",
       "  <thead>\n",
       "    <tr style=\"text-align: right;\">\n",
       "      <th></th>\n",
       "      <th>number_of_reviews</th>\n",
       "      <th>number_of_beer_ids</th>\n",
       "    </tr>\n",
       "  </thead>\n",
       "  <tbody>\n",
       "    <tr>\n",
       "      <th>0</th>\n",
       "      <td>1</td>\n",
       "      <td>4718</td>\n",
       "    </tr>\n",
       "    <tr>\n",
       "      <th>1</th>\n",
       "      <td>2</td>\n",
       "      <td>2235</td>\n",
       "    </tr>\n",
       "    <tr>\n",
       "      <th>2</th>\n",
       "      <td>3</td>\n",
       "      <td>1269</td>\n",
       "    </tr>\n",
       "    <tr>\n",
       "      <th>3</th>\n",
       "      <td>4</td>\n",
       "      <td>860</td>\n",
       "    </tr>\n",
       "    <tr>\n",
       "      <th>4</th>\n",
       "      <td>5</td>\n",
       "      <td>628</td>\n",
       "    </tr>\n",
       "  </tbody>\n",
       "</table>\n",
       "</div>"
      ],
      "text/plain": [
       "   number_of_reviews  number_of_beer_ids\n",
       "0                  1                4718\n",
       "1                  2                2235\n",
       "2                  3                1269\n",
       "3                  4                 860\n",
       "4                  5                 628"
      ]
     },
     "execution_count": 250,
     "metadata": {},
     "output_type": "execute_result"
    }
   ],
   "source": [
    "reviews_count_analyze = reviews_count_beer_id['Reviews_count'].value_counts().to_frame().reset_index()\n",
    "reviews_count_analyze.columns = ['number_of_reviews','number_of_beer_ids']\n",
    "reviews_count_analyze.head()"
   ]
  },
  {
   "cell_type": "code",
   "execution_count": 251,
   "metadata": {},
   "outputs": [
    {
     "data": {
      "text/html": [
       "<div>\n",
       "<style scoped>\n",
       "    .dataframe tbody tr th:only-of-type {\n",
       "        vertical-align: middle;\n",
       "    }\n",
       "\n",
       "    .dataframe tbody tr th {\n",
       "        vertical-align: top;\n",
       "    }\n",
       "\n",
       "    .dataframe thead th {\n",
       "        text-align: right;\n",
       "    }\n",
       "</style>\n",
       "<table border=\"1\" class=\"dataframe\">\n",
       "  <thead>\n",
       "    <tr style=\"text-align: right;\">\n",
       "      <th></th>\n",
       "      <th>number_of_reviews</th>\n",
       "      <th>number_of_beer_ids</th>\n",
       "      <th>percentage_beers</th>\n",
       "      <th>cumulative_percentage_beers</th>\n",
       "    </tr>\n",
       "  </thead>\n",
       "  <tbody>\n",
       "    <tr>\n",
       "      <th>0</th>\n",
       "      <td>1</td>\n",
       "      <td>4718</td>\n",
       "      <td>31.558528</td>\n",
       "      <td>31.558528</td>\n",
       "    </tr>\n",
       "    <tr>\n",
       "      <th>1</th>\n",
       "      <td>2</td>\n",
       "      <td>2235</td>\n",
       "      <td>14.949833</td>\n",
       "      <td>46.508361</td>\n",
       "    </tr>\n",
       "    <tr>\n",
       "      <th>2</th>\n",
       "      <td>3</td>\n",
       "      <td>1269</td>\n",
       "      <td>8.488294</td>\n",
       "      <td>54.996656</td>\n",
       "    </tr>\n",
       "    <tr>\n",
       "      <th>3</th>\n",
       "      <td>4</td>\n",
       "      <td>860</td>\n",
       "      <td>5.752508</td>\n",
       "      <td>60.749164</td>\n",
       "    </tr>\n",
       "    <tr>\n",
       "      <th>4</th>\n",
       "      <td>5</td>\n",
       "      <td>628</td>\n",
       "      <td>4.200669</td>\n",
       "      <td>64.949833</td>\n",
       "    </tr>\n",
       "  </tbody>\n",
       "</table>\n",
       "</div>"
      ],
      "text/plain": [
       "   number_of_reviews  number_of_beer_ids  percentage_beers  \\\n",
       "0                  1                4718         31.558528   \n",
       "1                  2                2235         14.949833   \n",
       "2                  3                1269          8.488294   \n",
       "3                  4                 860          5.752508   \n",
       "4                  5                 628          4.200669   \n",
       "\n",
       "   cumulative_percentage_beers  \n",
       "0                    31.558528  \n",
       "1                    46.508361  \n",
       "2                    54.996656  \n",
       "3                    60.749164  \n",
       "4                    64.949833  "
      ]
     },
     "execution_count": 251,
     "metadata": {},
     "output_type": "execute_result"
    }
   ],
   "source": [
    "#calculating percentage of each beer_id and also their cummulative percentage\n",
    "reviews_count_analyze['percentage_beers'] = (reviews_count_analyze['number_of_beer_ids']*100)/reviews_count_analyze['number_of_beer_ids'].sum()\n",
    "reviews_count_analyze['cumulative_percentage_beers'] = reviews_count_analyze['percentage_beers'].cumsum()\n",
    "reviews_count_analyze.head()"
   ]
  },
  {
   "cell_type": "code",
   "execution_count": 252,
   "metadata": {},
   "outputs": [
    {
     "data": {
      "text/plain": [
       "number_of_reviews              590\n",
       "number_of_beer_ids             590\n",
       "percentage_beers               590\n",
       "cumulative_percentage_beers    590\n",
       "dtype: int64"
      ]
     },
     "execution_count": 252,
     "metadata": {},
     "output_type": "execute_result"
    }
   ],
   "source": [
    "reviews_count_analyze.count()"
   ]
  },
  {
   "cell_type": "code",
   "execution_count": 253,
   "metadata": {},
   "outputs": [
    {
     "data": {
      "text/plain": [
       "<matplotlib.axes._subplots.AxesSubplot at 0x1a4e73ac50>"
      ]
     },
     "execution_count": 253,
     "metadata": {},
     "output_type": "execute_result"
    },
    {
     "data": {
      "image/png": "[encoded data removed]",
      "text/plain": [
       "<Figure size 1800x504 with 1 Axes>"
      ]
     },
     "metadata": {},
     "output_type": "display_data"
    }
   ],
   "source": [
    "sns.set(rc={'figure.figsize':(25,7)})\n",
    "ax = sns.barplot(x=reviews_count_analyze[0:100]['number_of_reviews'], y=reviews_count_analyze[0:200]['number_of_beer_ids'], palette=\"rocket\")\n",
    "ax.set(yscale=\"log\")\n",
    "ax.set_xticklabels(ax.get_xticklabels(), rotation=90,fontsize=10)\n",
    "ax\n",
    "#There are more beerids having very less no of reviews"
   ]
  },
  {
   "cell_type": "code",
   "execution_count": 254,
   "metadata": {},
   "outputs": [
    {
     "data": {
      "text/html": [
       "<div>\n",
       "<style scoped>\n",
       "    .dataframe tbody tr th:only-of-type {\n",
       "        vertical-align: middle;\n",
       "    }\n",
       "\n",
       "    .dataframe tbody tr th {\n",
       "        vertical-align: top;\n",
       "    }\n",
       "\n",
       "    .dataframe thead th {\n",
       "        text-align: right;\n",
       "    }\n",
       "</style>\n",
       "<table border=\"1\" class=\"dataframe\">\n",
       "  <thead>\n",
       "    <tr style=\"text-align: right;\">\n",
       "      <th></th>\n",
       "      <th>review_profileName</th>\n",
       "      <th>count_reviews</th>\n",
       "    </tr>\n",
       "  </thead>\n",
       "  <tbody>\n",
       "    <tr>\n",
       "      <th>0</th>\n",
       "      <td>northyorksammy</td>\n",
       "      <td>1695</td>\n",
       "    </tr>\n",
       "    <tr>\n",
       "      <th>1</th>\n",
       "      <td>mikesgroove</td>\n",
       "      <td>1289</td>\n",
       "    </tr>\n",
       "    <tr>\n",
       "      <th>2</th>\n",
       "      <td>BuckeyeNation</td>\n",
       "      <td>1195</td>\n",
       "    </tr>\n",
       "    <tr>\n",
       "      <th>3</th>\n",
       "      <td>Phyl21ca</td>\n",
       "      <td>1145</td>\n",
       "    </tr>\n",
       "    <tr>\n",
       "      <th>4</th>\n",
       "      <td>womencantsail</td>\n",
       "      <td>1108</td>\n",
       "    </tr>\n",
       "  </tbody>\n",
       "</table>\n",
       "</div>"
      ],
      "text/plain": [
       "  review_profileName  count_reviews\n",
       "0     northyorksammy           1695\n",
       "1        mikesgroove           1289\n",
       "2      BuckeyeNation           1195\n",
       "3           Phyl21ca           1145\n",
       "4      womencantsail           1108"
      ]
     },
     "execution_count": 254,
     "metadata": {},
     "output_type": "execute_result"
    }
   ],
   "source": [
    "reviews_count_by_profilename = ratings.groupby('review_profileName')['review_overall'].count().to_frame('count_reviews').sort_values(by = \"count_reviews\", ascending = False)\n",
    "reviews_count_by_profilename.reset_index(inplace=True)\n",
    "reviews_count_by_profilename.head()"
   ]
  },
  {
   "cell_type": "code",
   "execution_count": 255,
   "metadata": {},
   "outputs": [
    {
     "data": {
      "text/plain": [
       "review_profileName    22563\n",
       "count_reviews         22563\n",
       "dtype: int64"
      ]
     },
     "execution_count": 255,
     "metadata": {},
     "output_type": "execute_result"
    }
   ],
   "source": [
    "reviews_count_by_profilename.count()"
   ]
  },
  {
   "cell_type": "code",
   "execution_count": 256,
   "metadata": {},
   "outputs": [
    {
     "data": {
      "text/html": [
       "<div>\n",
       "<style scoped>\n",
       "    .dataframe tbody tr th:only-of-type {\n",
       "        vertical-align: middle;\n",
       "    }\n",
       "\n",
       "    .dataframe tbody tr th {\n",
       "        vertical-align: top;\n",
       "    }\n",
       "\n",
       "    .dataframe thead th {\n",
       "        text-align: right;\n",
       "    }\n",
       "</style>\n",
       "<table border=\"1\" class=\"dataframe\">\n",
       "  <thead>\n",
       "    <tr style=\"text-align: right;\">\n",
       "      <th></th>\n",
       "      <th>number_of_reviews</th>\n",
       "      <th>number_of_users</th>\n",
       "    </tr>\n",
       "  </thead>\n",
       "  <tbody>\n",
       "    <tr>\n",
       "      <th>0</th>\n",
       "      <td>1</td>\n",
       "      <td>7621</td>\n",
       "    </tr>\n",
       "    <tr>\n",
       "      <th>1</th>\n",
       "      <td>2</td>\n",
       "      <td>2887</td>\n",
       "    </tr>\n",
       "    <tr>\n",
       "      <th>2</th>\n",
       "      <td>3</td>\n",
       "      <td>1697</td>\n",
       "    </tr>\n",
       "    <tr>\n",
       "      <th>3</th>\n",
       "      <td>4</td>\n",
       "      <td>1144</td>\n",
       "    </tr>\n",
       "    <tr>\n",
       "      <th>4</th>\n",
       "      <td>5</td>\n",
       "      <td>829</td>\n",
       "    </tr>\n",
       "  </tbody>\n",
       "</table>\n",
       "</div>"
      ],
      "text/plain": [
       "   number_of_reviews  number_of_users\n",
       "0                  1             7621\n",
       "1                  2             2887\n",
       "2                  3             1697\n",
       "3                  4             1144\n",
       "4                  5              829"
      ]
     },
     "execution_count": 256,
     "metadata": {},
     "output_type": "execute_result"
    }
   ],
   "source": [
    "#now lets explore number of users with number of reviews they have given\n",
    "reviews_count_user = reviews_count_by_profilename['count_reviews'].value_counts().to_frame().reset_index()\n",
    "reviews_count_user.columns = ['number_of_reviews','number_of_users']\n",
    "reviews_count_user.head()"
   ]
  },
  {
   "cell_type": "code",
   "execution_count": 257,
   "metadata": {},
   "outputs": [
    {
     "data": {
      "text/plain": [
       "number_of_reviews    472\n",
       "number_of_users      472\n",
       "dtype: int64"
      ]
     },
     "execution_count": 257,
     "metadata": {},
     "output_type": "execute_result"
    }
   ],
   "source": [
    "reviews_count_user.count()"
   ]
  },
  {
   "cell_type": "code",
   "execution_count": 258,
   "metadata": {},
   "outputs": [
    {
     "data": {
      "text/html": [
       "<div>\n",
       "<style scoped>\n",
       "    .dataframe tbody tr th:only-of-type {\n",
       "        vertical-align: middle;\n",
       "    }\n",
       "\n",
       "    .dataframe tbody tr th {\n",
       "        vertical-align: top;\n",
       "    }\n",
       "\n",
       "    .dataframe thead th {\n",
       "        text-align: right;\n",
       "    }\n",
       "</style>\n",
       "<table border=\"1\" class=\"dataframe\">\n",
       "  <thead>\n",
       "    <tr style=\"text-align: right;\">\n",
       "      <th></th>\n",
       "      <th>number_of_reviews</th>\n",
       "      <th>number_of_users</th>\n",
       "      <th>percentage_users</th>\n",
       "      <th>cumul_percentage_users</th>\n",
       "    </tr>\n",
       "  </thead>\n",
       "  <tbody>\n",
       "    <tr>\n",
       "      <th>0</th>\n",
       "      <td>1</td>\n",
       "      <td>7621</td>\n",
       "      <td>33.776537</td>\n",
       "      <td>33.776537</td>\n",
       "    </tr>\n",
       "    <tr>\n",
       "      <th>1</th>\n",
       "      <td>2</td>\n",
       "      <td>2887</td>\n",
       "      <td>12.795284</td>\n",
       "      <td>46.571821</td>\n",
       "    </tr>\n",
       "    <tr>\n",
       "      <th>2</th>\n",
       "      <td>3</td>\n",
       "      <td>1697</td>\n",
       "      <td>7.521163</td>\n",
       "      <td>54.092984</td>\n",
       "    </tr>\n",
       "    <tr>\n",
       "      <th>3</th>\n",
       "      <td>4</td>\n",
       "      <td>1144</td>\n",
       "      <td>5.070248</td>\n",
       "      <td>59.163232</td>\n",
       "    </tr>\n",
       "    <tr>\n",
       "      <th>4</th>\n",
       "      <td>5</td>\n",
       "      <td>829</td>\n",
       "      <td>3.674157</td>\n",
       "      <td>62.837389</td>\n",
       "    </tr>\n",
       "  </tbody>\n",
       "</table>\n",
       "</div>"
      ],
      "text/plain": [
       "   number_of_reviews  number_of_users  percentage_users  \\\n",
       "0                  1             7621         33.776537   \n",
       "1                  2             2887         12.795284   \n",
       "2                  3             1697          7.521163   \n",
       "3                  4             1144          5.070248   \n",
       "4                  5              829          3.674157   \n",
       "\n",
       "   cumul_percentage_users  \n",
       "0               33.776537  \n",
       "1               46.571821  \n",
       "2               54.092984  \n",
       "3               59.163232  \n",
       "4               62.837389  "
      ]
     },
     "execution_count": 258,
     "metadata": {},
     "output_type": "execute_result"
    }
   ],
   "source": [
    "reviews_count_user['percentage_users'] = (reviews_count_user['number_of_users']*100)/reviews_count_user['number_of_users'].sum()\n",
    "reviews_count_user['cumul_percentage_users'] = reviews_count_user['percentage_users'].cumsum()\n",
    "reviews_count_user.head()"
   ]
  },
  {
   "cell_type": "code",
   "execution_count": 259,
   "metadata": {},
   "outputs": [
    {
     "data": {
      "text/plain": [
       "<matplotlib.axes._subplots.AxesSubplot at 0x1a3b771c50>"
      ]
     },
     "execution_count": 259,
     "metadata": {},
     "output_type": "execute_result"
    },
    {
     "data": {
      "image/png": "[encoded data removed]",
      "text/plain": [
       "<Figure size 1800x504 with 1 Axes>"
      ]
     },
     "metadata": {},
     "output_type": "display_data"
    }
   ],
   "source": [
    "#visualizing number of users with number of reviews\n",
    "\n",
    "sns.set(rc={'figure.figsize':(25,7)})\n",
    "ax = sns.barplot(x=reviews_count_user[0:100]['number_of_reviews'], y=reviews_count_user[0:200]['number_of_users'], palette=\"rocket\")\n",
    "ax.set(yscale=\"log\")\n",
    "ax.set_xticklabels(ax.get_xticklabels(), rotation=90,fontsize=10)\n",
    "ax"
   ]
  },
  {
   "cell_type": "code",
   "execution_count": 266,
   "metadata": {},
   "outputs": [
    {
     "name": "stdout",
     "output_type": "stream",
     "text": [
      "14950\n",
      "22563\n",
      "10\n",
      "502769\n"
     ]
    }
   ],
   "source": [
    "# Data exploration\n",
    "#unique values for each metric\n",
    "print(df['beer_beerId'].nunique())\n",
    "print(df['review_profileName'].nunique())\n",
    "print(df['review_overall'].nunique())\n",
    "print(df['beer_beerId'].count())"
   ]
  },
  {
   "cell_type": "code",
   "execution_count": 267,
   "metadata": {},
   "outputs": [
    {
     "data": {
      "text/plain": [
       "(array([  70.,  136.,  303.,  561.,  484., 2207., 4094., 4940., 1854.,\n",
       "         301.]),\n",
       " array([1. , 1.4, 1.8, 2.2, 2.6, 3. , 3.4, 3.8, 4.2, 4.6, 5. ]),\n",
       " <a list of 10 Patch objects>)"
      ]
     },
     "execution_count": 267,
     "metadata": {},
     "output_type": "execute_result"
    },
    {
     "data": {
      "image/png": "[encoded data removed]",
      "text/plain": [
       "<Figure size 1800x504 with 1 Axes>"
      ]
     },
     "metadata": {},
     "output_type": "display_data"
    }
   ],
   "source": [
    "plt.hist(df.groupby('beer_beerId')['review_overall'].mean(), color=\"m\")"
   ]
  },
  {
   "cell_type": "code",
   "execution_count": 268,
   "metadata": {},
   "outputs": [
    {
     "data": {
      "text/plain": [
       "<matplotlib.axes._subplots.AxesSubplot at 0x1a52364890>"
      ]
     },
     "execution_count": 268,
     "metadata": {},
     "output_type": "execute_result"
    },
    {
     "data": {
      "image/png": "[encoded data removed]",
      "text/plain": [
       "<Figure size 1800x504 with 1 Axes>"
      ]
     },
     "metadata": {},
     "output_type": "display_data"
    }
   ],
   "source": [
    "sns.distplot(df.groupby('beer_beerId')['review_overall'].mean(), color=\"m\")"
   ]
  },
  {
   "cell_type": "code",
   "execution_count": 269,
   "metadata": {},
   "outputs": [
    {
     "data": {
      "text/plain": [
       "3.6529873209169903"
      ]
     },
     "execution_count": 269,
     "metadata": {},
     "output_type": "execute_result"
    }
   ],
   "source": [
    "df.groupby('beer_beerId')['review_overall'].mean().mean()"
   ]
  },
  {
   "cell_type": "code",
   "execution_count": 270,
   "metadata": {},
   "outputs": [
    {
     "data": {
      "text/plain": [
       "(array([ 163.,  122.,  259.,  336.,  214., 1673., 4669., 8420., 4480.,\n",
       "        2227.]),\n",
       " array([1. , 1.4, 1.8, 2.2, 2.6, 3. , 3.4, 3.8, 4.2, 4.6, 5. ]),\n",
       " <a list of 10 Patch objects>)"
      ]
     },
     "execution_count": 270,
     "metadata": {},
     "output_type": "execute_result"
    },
    {
     "data": {
      "image/png": "[encoded data removed]",
      "text/plain": [
       "<Figure size 1800x504 with 1 Axes>"
      ]
     },
     "metadata": {},
     "output_type": "display_data"
    }
   ],
   "source": [
    "plt.hist(df.groupby('review_profileName')['review_overall'].mean(), color=\"m\")"
   ]
  },
  {
   "cell_type": "code",
   "execution_count": 271,
   "metadata": {},
   "outputs": [
    {
     "data": {
      "text/plain": [
       "3.9382319029316686"
      ]
     },
     "execution_count": 271,
     "metadata": {},
     "output_type": "execute_result"
    }
   ],
   "source": [
    "df.groupby('review_profileName')['review_overall'].mean().mean()"
   ]
  },
  {
   "cell_type": "code",
   "execution_count": 272,
   "metadata": {},
   "outputs": [
    {
     "data": {
      "text/html": [
       "<div>\n",
       "<style scoped>\n",
       "    .dataframe tbody tr th:only-of-type {\n",
       "        vertical-align: middle;\n",
       "    }\n",
       "\n",
       "    .dataframe tbody tr th {\n",
       "        vertical-align: top;\n",
       "    }\n",
       "\n",
       "    .dataframe thead th {\n",
       "        text-align: right;\n",
       "    }\n",
       "</style>\n",
       "<table border=\"1\" class=\"dataframe\">\n",
       "  <thead>\n",
       "    <tr style=\"text-align: right;\">\n",
       "      <th></th>\n",
       "      <th>Reviews_count</th>\n",
       "    </tr>\n",
       "    <tr>\n",
       "      <th>beer_beerId</th>\n",
       "      <th></th>\n",
       "    </tr>\n",
       "  </thead>\n",
       "  <tbody>\n",
       "    <tr>\n",
       "      <th>1904</th>\n",
       "      <td>2928</td>\n",
       "    </tr>\n",
       "    <tr>\n",
       "      <th>276</th>\n",
       "      <td>2525</td>\n",
       "    </tr>\n",
       "    <tr>\n",
       "      <th>34</th>\n",
       "      <td>2477</td>\n",
       "    </tr>\n",
       "    <tr>\n",
       "      <th>2671</th>\n",
       "      <td>2443</td>\n",
       "    </tr>\n",
       "    <tr>\n",
       "      <th>11757</th>\n",
       "      <td>2443</td>\n",
       "    </tr>\n",
       "  </tbody>\n",
       "</table>\n",
       "</div>"
      ],
      "text/plain": [
       "             Reviews_count\n",
       "beer_beerId               \n",
       "1904                  2928\n",
       "276                   2525\n",
       "34                    2477\n",
       "2671                  2443\n",
       "11757                 2443"
      ]
     },
     "execution_count": 272,
     "metadata": {},
     "output_type": "execute_result"
    }
   ],
   "source": [
    "reviews_count_beer_id2 = df.groupby('beer_beerId')['review_overall'].count().to_frame('Reviews_count').sort_values(by = \"Reviews_count\", ascending = False)\n",
    "reviews_count_beer_id2.head()"
   ]
  },
  {
   "cell_type": "code",
   "execution_count": 273,
   "metadata": {},
   "outputs": [
    {
     "data": {
      "text/plain": [
       "<matplotlib.axes._subplots.AxesSubplot at 0x1a52cbed90>"
      ]
     },
     "execution_count": 273,
     "metadata": {},
     "output_type": "execute_result"
    },
    {
     "data": {
      "image/png": "[encoded data removed]",
      "text/plain": [
       "<Figure size 1800x504 with 1 Axes>"
      ]
     },
     "metadata": {},
     "output_type": "display_data"
    }
   ],
   "source": [
    "sns.distplot(reviews_count_beer_id2, color=\"m\")"
   ]
  },
  {
   "cell_type": "code",
   "execution_count": 274,
   "metadata": {},
   "outputs": [
    {
     "data": {
      "text/plain": [
       "33.63003344481606"
      ]
     },
     "execution_count": 274,
     "metadata": {},
     "output_type": "execute_result"
    }
   ],
   "source": [
    "reviews_count_beer_id2['Reviews_count'].mean()"
   ]
  },
  {
   "cell_type": "code",
   "execution_count": 275,
   "metadata": {},
   "outputs": [
    {
     "data": {
      "text/html": [
       "<div>\n",
       "<style scoped>\n",
       "    .dataframe tbody tr th:only-of-type {\n",
       "        vertical-align: middle;\n",
       "    }\n",
       "\n",
       "    .dataframe tbody tr th {\n",
       "        vertical-align: top;\n",
       "    }\n",
       "\n",
       "    .dataframe thead th {\n",
       "        text-align: right;\n",
       "    }\n",
       "</style>\n",
       "<table border=\"1\" class=\"dataframe\">\n",
       "  <thead>\n",
       "    <tr style=\"text-align: right;\">\n",
       "      <th></th>\n",
       "      <th>Reviews_count</th>\n",
       "    </tr>\n",
       "    <tr>\n",
       "      <th>review_profileName</th>\n",
       "      <th></th>\n",
       "    </tr>\n",
       "  </thead>\n",
       "  <tbody>\n",
       "    <tr>\n",
       "      <th>northyorksammy</th>\n",
       "      <td>1695</td>\n",
       "    </tr>\n",
       "    <tr>\n",
       "      <th>mikesgroove</th>\n",
       "      <td>1289</td>\n",
       "    </tr>\n",
       "    <tr>\n",
       "      <th>BuckeyeNation</th>\n",
       "      <td>1195</td>\n",
       "    </tr>\n",
       "    <tr>\n",
       "      <th>Phyl21ca</th>\n",
       "      <td>1145</td>\n",
       "    </tr>\n",
       "    <tr>\n",
       "      <th>womencantsail</th>\n",
       "      <td>1108</td>\n",
       "    </tr>\n",
       "  </tbody>\n",
       "</table>\n",
       "</div>"
      ],
      "text/plain": [
       "                    Reviews_count\n",
       "review_profileName               \n",
       "northyorksammy               1695\n",
       "mikesgroove                  1289\n",
       "BuckeyeNation                1195\n",
       "Phyl21ca                     1145\n",
       "womencantsail                1108"
      ]
     },
     "execution_count": 275,
     "metadata": {},
     "output_type": "execute_result"
    }
   ],
   "source": [
    "# The average number of ratings given by the users\n",
    "review_count_user = df.groupby('review_profileName')['review_overall'].count().to_frame('Reviews_count').sort_values(by = \"Reviews_count\", ascending = False)\n",
    "review_count_user.head()"
   ]
  },
  {
   "cell_type": "code",
   "execution_count": 276,
   "metadata": {},
   "outputs": [
    {
     "data": {
      "text/plain": [
       "<matplotlib.axes._subplots.AxesSubplot at 0x1a52defd90>"
      ]
     },
     "execution_count": 276,
     "metadata": {},
     "output_type": "execute_result"
    },
    {
     "data": {
      "image/png": "[encoded data removed]",
      "text/plain": [
       "<Figure size 1800x504 with 1 Axes>"
      ]
     },
     "metadata": {},
     "output_type": "display_data"
    }
   ],
   "source": [
    "sns.distplot(review_count_user, color=\"m\")"
   ]
  },
  {
   "cell_type": "code",
   "execution_count": 277,
   "metadata": {},
   "outputs": [
    {
     "data": {
      "text/plain": [
       "22.28289677791074"
      ]
     },
     "execution_count": 277,
     "metadata": {},
     "output_type": "execute_result"
    }
   ],
   "source": [
    "review_count_user['Reviews_count'].mean()"
   ]
  },
  {
   "cell_type": "code",
   "execution_count": 283,
   "metadata": {},
   "outputs": [],
   "source": [
    "# Recommendation Models\n",
    "import sklearn\n",
    "from sklearn.model_selection import train_test_split\n",
    "train, test = train_test_split(ratings, test_size=0.30, random_state=101)"
   ]
  },
  {
   "cell_type": "code",
   "execution_count": 284,
   "metadata": {},
   "outputs": [
    {
     "name": "stdout",
     "output_type": "stream",
     "text": [
      "(351938, 3)\n",
      "(150831, 3)\n"
     ]
    }
   ],
   "source": [
    "print(train.shape)\n",
    "print(test.shape)"
   ]
  },
  {
   "cell_type": "code",
   "execution_count": 285,
   "metadata": {},
   "outputs": [],
   "source": [
    "train.reset_index(inplace=True,drop=True)\n",
    "test.reset_index(inplace=True,drop=True)"
   ]
  },
  {
   "cell_type": "code",
   "execution_count": 286,
   "metadata": {},
   "outputs": [
    {
     "data": {
      "text/html": [
       "<div>\n",
       "<style scoped>\n",
       "    .dataframe tbody tr th:only-of-type {\n",
       "        vertical-align: middle;\n",
       "    }\n",
       "\n",
       "    .dataframe tbody tr th {\n",
       "        vertical-align: top;\n",
       "    }\n",
       "\n",
       "    .dataframe thead th {\n",
       "        text-align: right;\n",
       "    }\n",
       "</style>\n",
       "<table border=\"1\" class=\"dataframe\">\n",
       "  <thead>\n",
       "    <tr style=\"text-align: right;\">\n",
       "      <th>beer_beerId</th>\n",
       "      <th>5</th>\n",
       "      <th>6</th>\n",
       "      <th>7</th>\n",
       "      <th>8</th>\n",
       "      <th>9</th>\n",
       "      <th>11</th>\n",
       "      <th>12</th>\n",
       "      <th>13</th>\n",
       "      <th>20</th>\n",
       "      <th>30</th>\n",
       "      <th>...</th>\n",
       "      <th>77196</th>\n",
       "      <th>77199</th>\n",
       "      <th>77207</th>\n",
       "      <th>77213</th>\n",
       "      <th>77248</th>\n",
       "      <th>77295</th>\n",
       "      <th>77298</th>\n",
       "      <th>77303</th>\n",
       "      <th>77305</th>\n",
       "      <th>77310</th>\n",
       "    </tr>\n",
       "    <tr>\n",
       "      <th>review_profileName</th>\n",
       "      <th></th>\n",
       "      <th></th>\n",
       "      <th></th>\n",
       "      <th></th>\n",
       "      <th></th>\n",
       "      <th></th>\n",
       "      <th></th>\n",
       "      <th></th>\n",
       "      <th></th>\n",
       "      <th></th>\n",
       "      <th></th>\n",
       "      <th></th>\n",
       "      <th></th>\n",
       "      <th></th>\n",
       "      <th></th>\n",
       "      <th></th>\n",
       "      <th></th>\n",
       "      <th></th>\n",
       "      <th></th>\n",
       "      <th></th>\n",
       "      <th></th>\n",
       "    </tr>\n",
       "  </thead>\n",
       "  <tbody>\n",
       "    <tr>\n",
       "      <th>0110x011</th>\n",
       "      <td>0.0</td>\n",
       "      <td>0.0</td>\n",
       "      <td>0.0</td>\n",
       "      <td>0.0</td>\n",
       "      <td>0.0</td>\n",
       "      <td>0.0</td>\n",
       "      <td>0.0</td>\n",
       "      <td>0.0</td>\n",
       "      <td>0.0</td>\n",
       "      <td>0.0</td>\n",
       "      <td>...</td>\n",
       "      <td>0.0</td>\n",
       "      <td>0.0</td>\n",
       "      <td>0.0</td>\n",
       "      <td>0.0</td>\n",
       "      <td>0.0</td>\n",
       "      <td>0.0</td>\n",
       "      <td>0.0</td>\n",
       "      <td>0.0</td>\n",
       "      <td>0.0</td>\n",
       "      <td>0.0</td>\n",
       "    </tr>\n",
       "    <tr>\n",
       "      <th>03SVTCobra</th>\n",
       "      <td>0.0</td>\n",
       "      <td>0.0</td>\n",
       "      <td>0.0</td>\n",
       "      <td>0.0</td>\n",
       "      <td>0.0</td>\n",
       "      <td>0.0</td>\n",
       "      <td>0.0</td>\n",
       "      <td>0.0</td>\n",
       "      <td>0.0</td>\n",
       "      <td>0.0</td>\n",
       "      <td>...</td>\n",
       "      <td>0.0</td>\n",
       "      <td>0.0</td>\n",
       "      <td>0.0</td>\n",
       "      <td>0.0</td>\n",
       "      <td>0.0</td>\n",
       "      <td>0.0</td>\n",
       "      <td>0.0</td>\n",
       "      <td>0.0</td>\n",
       "      <td>0.0</td>\n",
       "      <td>0.0</td>\n",
       "    </tr>\n",
       "    <tr>\n",
       "      <th>04101Brewer</th>\n",
       "      <td>0.0</td>\n",
       "      <td>0.0</td>\n",
       "      <td>0.0</td>\n",
       "      <td>0.0</td>\n",
       "      <td>0.0</td>\n",
       "      <td>0.0</td>\n",
       "      <td>0.0</td>\n",
       "      <td>0.0</td>\n",
       "      <td>0.0</td>\n",
       "      <td>0.0</td>\n",
       "      <td>...</td>\n",
       "      <td>0.0</td>\n",
       "      <td>0.0</td>\n",
       "      <td>0.0</td>\n",
       "      <td>0.0</td>\n",
       "      <td>0.0</td>\n",
       "      <td>0.0</td>\n",
       "      <td>0.0</td>\n",
       "      <td>0.0</td>\n",
       "      <td>0.0</td>\n",
       "      <td>0.0</td>\n",
       "    </tr>\n",
       "    <tr>\n",
       "      <th>05Harley</th>\n",
       "      <td>0.0</td>\n",
       "      <td>0.0</td>\n",
       "      <td>0.0</td>\n",
       "      <td>0.0</td>\n",
       "      <td>0.0</td>\n",
       "      <td>0.0</td>\n",
       "      <td>0.0</td>\n",
       "      <td>0.0</td>\n",
       "      <td>0.0</td>\n",
       "      <td>0.0</td>\n",
       "      <td>...</td>\n",
       "      <td>0.0</td>\n",
       "      <td>0.0</td>\n",
       "      <td>0.0</td>\n",
       "      <td>0.0</td>\n",
       "      <td>0.0</td>\n",
       "      <td>0.0</td>\n",
       "      <td>0.0</td>\n",
       "      <td>0.0</td>\n",
       "      <td>0.0</td>\n",
       "      <td>0.0</td>\n",
       "    </tr>\n",
       "    <tr>\n",
       "      <th>0tt0</th>\n",
       "      <td>0.0</td>\n",
       "      <td>0.0</td>\n",
       "      <td>0.0</td>\n",
       "      <td>0.0</td>\n",
       "      <td>0.0</td>\n",
       "      <td>0.0</td>\n",
       "      <td>0.0</td>\n",
       "      <td>0.0</td>\n",
       "      <td>0.0</td>\n",
       "      <td>0.0</td>\n",
       "      <td>...</td>\n",
       "      <td>0.0</td>\n",
       "      <td>0.0</td>\n",
       "      <td>0.0</td>\n",
       "      <td>0.0</td>\n",
       "      <td>0.0</td>\n",
       "      <td>0.0</td>\n",
       "      <td>0.0</td>\n",
       "      <td>0.0</td>\n",
       "      <td>0.0</td>\n",
       "      <td>0.0</td>\n",
       "    </tr>\n",
       "  </tbody>\n",
       "</table>\n",
       "<p>5 rows × 13321 columns</p>\n",
       "</div>"
      ],
      "text/plain": [
       "beer_beerId         5      6      7      8      9      11     12     13     \\\n",
       "review_profileName                                                           \n",
       "0110x011              0.0    0.0    0.0    0.0    0.0    0.0    0.0    0.0   \n",
       "03SVTCobra            0.0    0.0    0.0    0.0    0.0    0.0    0.0    0.0   \n",
       "04101Brewer           0.0    0.0    0.0    0.0    0.0    0.0    0.0    0.0   \n",
       "05Harley              0.0    0.0    0.0    0.0    0.0    0.0    0.0    0.0   \n",
       "0tt0                  0.0    0.0    0.0    0.0    0.0    0.0    0.0    0.0   \n",
       "\n",
       "beer_beerId         20     30     ...  77196  77199  77207  77213  77248  \\\n",
       "review_profileName                ...                                      \n",
       "0110x011              0.0    0.0  ...    0.0    0.0    0.0    0.0    0.0   \n",
       "03SVTCobra            0.0    0.0  ...    0.0    0.0    0.0    0.0    0.0   \n",
       "04101Brewer           0.0    0.0  ...    0.0    0.0    0.0    0.0    0.0   \n",
       "05Harley              0.0    0.0  ...    0.0    0.0    0.0    0.0    0.0   \n",
       "0tt0                  0.0    0.0  ...    0.0    0.0    0.0    0.0    0.0   \n",
       "\n",
       "beer_beerId         77295  77298  77303  77305  77310  \n",
       "review_profileName                                     \n",
       "0110x011              0.0    0.0    0.0    0.0    0.0  \n",
       "03SVTCobra            0.0    0.0    0.0    0.0    0.0  \n",
       "04101Brewer           0.0    0.0    0.0    0.0    0.0  \n",
       "05Harley              0.0    0.0    0.0    0.0    0.0  \n",
       "0tt0                  0.0    0.0    0.0    0.0    0.0  \n",
       "\n",
       "[5 rows x 13321 columns]"
      ]
     },
     "execution_count": 286,
     "metadata": {},
     "output_type": "execute_result"
    }
   ],
   "source": [
    "# pivot ratings beer features\n",
    "df_beer_features = train.pivot_table(index='review_profileName',columns='beer_beerId',values='review_overall').fillna(0)\n",
    "df_beer_features.head()"
   ]
  },
  {
   "cell_type": "code",
   "execution_count": 287,
   "metadata": {},
   "outputs": [],
   "source": [
    "dummy_train = train.copy()\n",
    "dummy_test = test.copy()"
   ]
  },
  {
   "cell_type": "code",
   "execution_count": 288,
   "metadata": {},
   "outputs": [],
   "source": [
    "dummy_train['review_overall'] = dummy_train['review_overall'].apply(lambda x: 0 if x>=1 else 1)\n",
    "dummy_test['review_overall'] = dummy_test['review_overall'].apply(lambda x: 1 if x>=1 else 0)"
   ]
  },
  {
   "cell_type": "code",
   "execution_count": 289,
   "metadata": {},
   "outputs": [],
   "source": [
    "# The beers not rated by user is marked as 1 for prediction. \n",
    "dummy_train = dummy_train.pivot_table(\n",
    "    index='review_profileName',\n",
    "    columns='beer_beerId',\n",
    "    values='review_overall'\n",
    ").fillna(1)\n",
    "\n",
    "# The beers not rated by user is marked as 0 for evaluation. \n",
    "dummy_test = dummy_test.pivot_table(\n",
    "    index='review_profileName',\n",
    "    columns='beer_beerId',\n",
    "    values='review_overall'\n",
    ").fillna(0)"
   ]
  },
  {
   "cell_type": "code",
   "execution_count": 290,
   "metadata": {},
   "outputs": [
    {
     "data": {
      "text/html": [
       "<div>\n",
       "<style scoped>\n",
       "    .dataframe tbody tr th:only-of-type {\n",
       "        vertical-align: middle;\n",
       "    }\n",
       "\n",
       "    .dataframe tbody tr th {\n",
       "        vertical-align: top;\n",
       "    }\n",
       "\n",
       "    .dataframe thead th {\n",
       "        text-align: right;\n",
       "    }\n",
       "</style>\n",
       "<table border=\"1\" class=\"dataframe\">\n",
       "  <thead>\n",
       "    <tr style=\"text-align: right;\">\n",
       "      <th>beer_beerId</th>\n",
       "      <th>5</th>\n",
       "      <th>6</th>\n",
       "      <th>7</th>\n",
       "      <th>8</th>\n",
       "      <th>9</th>\n",
       "      <th>11</th>\n",
       "      <th>12</th>\n",
       "      <th>13</th>\n",
       "      <th>20</th>\n",
       "      <th>30</th>\n",
       "      <th>...</th>\n",
       "      <th>77196</th>\n",
       "      <th>77199</th>\n",
       "      <th>77207</th>\n",
       "      <th>77213</th>\n",
       "      <th>77248</th>\n",
       "      <th>77295</th>\n",
       "      <th>77298</th>\n",
       "      <th>77303</th>\n",
       "      <th>77305</th>\n",
       "      <th>77310</th>\n",
       "    </tr>\n",
       "    <tr>\n",
       "      <th>review_profileName</th>\n",
       "      <th></th>\n",
       "      <th></th>\n",
       "      <th></th>\n",
       "      <th></th>\n",
       "      <th></th>\n",
       "      <th></th>\n",
       "      <th></th>\n",
       "      <th></th>\n",
       "      <th></th>\n",
       "      <th></th>\n",
       "      <th></th>\n",
       "      <th></th>\n",
       "      <th></th>\n",
       "      <th></th>\n",
       "      <th></th>\n",
       "      <th></th>\n",
       "      <th></th>\n",
       "      <th></th>\n",
       "      <th></th>\n",
       "      <th></th>\n",
       "      <th></th>\n",
       "    </tr>\n",
       "  </thead>\n",
       "  <tbody>\n",
       "    <tr>\n",
       "      <th>0110x011</th>\n",
       "      <td>1.0</td>\n",
       "      <td>1.0</td>\n",
       "      <td>1.0</td>\n",
       "      <td>1.0</td>\n",
       "      <td>1.0</td>\n",
       "      <td>1.0</td>\n",
       "      <td>1.0</td>\n",
       "      <td>1.0</td>\n",
       "      <td>1.0</td>\n",
       "      <td>1.0</td>\n",
       "      <td>...</td>\n",
       "      <td>1.0</td>\n",
       "      <td>1.0</td>\n",
       "      <td>1.0</td>\n",
       "      <td>1.0</td>\n",
       "      <td>1.0</td>\n",
       "      <td>1.0</td>\n",
       "      <td>1.0</td>\n",
       "      <td>1.0</td>\n",
       "      <td>1.0</td>\n",
       "      <td>1.0</td>\n",
       "    </tr>\n",
       "    <tr>\n",
       "      <th>03SVTCobra</th>\n",
       "      <td>1.0</td>\n",
       "      <td>1.0</td>\n",
       "      <td>1.0</td>\n",
       "      <td>1.0</td>\n",
       "      <td>1.0</td>\n",
       "      <td>1.0</td>\n",
       "      <td>1.0</td>\n",
       "      <td>1.0</td>\n",
       "      <td>1.0</td>\n",
       "      <td>1.0</td>\n",
       "      <td>...</td>\n",
       "      <td>1.0</td>\n",
       "      <td>1.0</td>\n",
       "      <td>1.0</td>\n",
       "      <td>1.0</td>\n",
       "      <td>1.0</td>\n",
       "      <td>1.0</td>\n",
       "      <td>1.0</td>\n",
       "      <td>1.0</td>\n",
       "      <td>1.0</td>\n",
       "      <td>1.0</td>\n",
       "    </tr>\n",
       "    <tr>\n",
       "      <th>04101Brewer</th>\n",
       "      <td>1.0</td>\n",
       "      <td>1.0</td>\n",
       "      <td>1.0</td>\n",
       "      <td>1.0</td>\n",
       "      <td>1.0</td>\n",
       "      <td>1.0</td>\n",
       "      <td>1.0</td>\n",
       "      <td>1.0</td>\n",
       "      <td>1.0</td>\n",
       "      <td>1.0</td>\n",
       "      <td>...</td>\n",
       "      <td>1.0</td>\n",
       "      <td>1.0</td>\n",
       "      <td>1.0</td>\n",
       "      <td>1.0</td>\n",
       "      <td>1.0</td>\n",
       "      <td>1.0</td>\n",
       "      <td>1.0</td>\n",
       "      <td>1.0</td>\n",
       "      <td>1.0</td>\n",
       "      <td>1.0</td>\n",
       "    </tr>\n",
       "    <tr>\n",
       "      <th>05Harley</th>\n",
       "      <td>1.0</td>\n",
       "      <td>1.0</td>\n",
       "      <td>1.0</td>\n",
       "      <td>1.0</td>\n",
       "      <td>1.0</td>\n",
       "      <td>1.0</td>\n",
       "      <td>1.0</td>\n",
       "      <td>1.0</td>\n",
       "      <td>1.0</td>\n",
       "      <td>1.0</td>\n",
       "      <td>...</td>\n",
       "      <td>1.0</td>\n",
       "      <td>1.0</td>\n",
       "      <td>1.0</td>\n",
       "      <td>1.0</td>\n",
       "      <td>1.0</td>\n",
       "      <td>1.0</td>\n",
       "      <td>1.0</td>\n",
       "      <td>1.0</td>\n",
       "      <td>1.0</td>\n",
       "      <td>1.0</td>\n",
       "    </tr>\n",
       "    <tr>\n",
       "      <th>0tt0</th>\n",
       "      <td>1.0</td>\n",
       "      <td>1.0</td>\n",
       "      <td>1.0</td>\n",
       "      <td>1.0</td>\n",
       "      <td>1.0</td>\n",
       "      <td>1.0</td>\n",
       "      <td>1.0</td>\n",
       "      <td>1.0</td>\n",
       "      <td>1.0</td>\n",
       "      <td>1.0</td>\n",
       "      <td>...</td>\n",
       "      <td>1.0</td>\n",
       "      <td>1.0</td>\n",
       "      <td>1.0</td>\n",
       "      <td>1.0</td>\n",
       "      <td>1.0</td>\n",
       "      <td>1.0</td>\n",
       "      <td>1.0</td>\n",
       "      <td>1.0</td>\n",
       "      <td>1.0</td>\n",
       "      <td>1.0</td>\n",
       "    </tr>\n",
       "  </tbody>\n",
       "</table>\n",
       "<p>5 rows × 13321 columns</p>\n",
       "</div>"
      ],
      "text/plain": [
       "beer_beerId         5      6      7      8      9      11     12     13     \\\n",
       "review_profileName                                                           \n",
       "0110x011              1.0    1.0    1.0    1.0    1.0    1.0    1.0    1.0   \n",
       "03SVTCobra            1.0    1.0    1.0    1.0    1.0    1.0    1.0    1.0   \n",
       "04101Brewer           1.0    1.0    1.0    1.0    1.0    1.0    1.0    1.0   \n",
       "05Harley              1.0    1.0    1.0    1.0    1.0    1.0    1.0    1.0   \n",
       "0tt0                  1.0    1.0    1.0    1.0    1.0    1.0    1.0    1.0   \n",
       "\n",
       "beer_beerId         20     30     ...  77196  77199  77207  77213  77248  \\\n",
       "review_profileName                ...                                      \n",
       "0110x011              1.0    1.0  ...    1.0    1.0    1.0    1.0    1.0   \n",
       "03SVTCobra            1.0    1.0  ...    1.0    1.0    1.0    1.0    1.0   \n",
       "04101Brewer           1.0    1.0  ...    1.0    1.0    1.0    1.0    1.0   \n",
       "05Harley              1.0    1.0  ...    1.0    1.0    1.0    1.0    1.0   \n",
       "0tt0                  1.0    1.0  ...    1.0    1.0    1.0    1.0    1.0   \n",
       "\n",
       "beer_beerId         77295  77298  77303  77305  77310  \n",
       "review_profileName                                     \n",
       "0110x011              1.0    1.0    1.0    1.0    1.0  \n",
       "03SVTCobra            1.0    1.0    1.0    1.0    1.0  \n",
       "04101Brewer           1.0    1.0    1.0    1.0    1.0  \n",
       "05Harley              1.0    1.0    1.0    1.0    1.0  \n",
       "0tt0                  1.0    1.0    1.0    1.0    1.0  \n",
       "\n",
       "[5 rows x 13321 columns]"
      ]
     },
     "execution_count": 290,
     "metadata": {},
     "output_type": "execute_result"
    }
   ],
   "source": [
    "dummy_train.head()"
   ]
  },
  {
   "cell_type": "code",
   "execution_count": 291,
   "metadata": {},
   "outputs": [
    {
     "name": "stdout",
     "output_type": "stream",
     "text": [
      "[[1. 0. 0. ... 0. 0. 0.]\n",
      " [0. 1. 0. ... 0. 0. 0.]\n",
      " [0. 0. 1. ... 0. 0. 0.]\n",
      " ...\n",
      " [0. 0. 0. ... 1. 0. 0.]\n",
      " [0. 0. 0. ... 0. 1. 0.]\n",
      " [0. 0. 0. ... 0. 0. 1.]]\n"
     ]
    }
   ],
   "source": [
    "# User Similarity Matrix - Using Cosine Similarity\n",
    "from sklearn.metrics.pairwise import pairwise_distances\n",
    "\n",
    "#User Similarity Matrix\n",
    "user_correlation = 1 - pairwise_distances(df_beer_features, metric='cosine')\n",
    "user_correlation[np.isnan(user_correlation)] = 0\n",
    "print(user_correlation)"
   ]
  },
  {
   "cell_type": "code",
   "execution_count": 292,
   "metadata": {},
   "outputs": [
    {
     "name": "stdout",
     "output_type": "stream",
     "text": [
      "[[1. 0. 0. ... 0. 0. 0.]\n",
      " [0. 0. 0. ... 0. 0. 0.]\n",
      " [0. 0. 1. ... 0. 0. 0.]\n",
      " ...\n",
      " [0. 0. 0. ... 0. 0. 0.]\n",
      " [0. 0. 0. ... 0. 1. 0.]\n",
      " [0. 0. 0. ... 0. 0. 1.]]\n"
     ]
    }
   ],
   "source": [
    "# Finding Cosine Similarity\n",
    "from sklearn.metrics.pairwise import pairwise_distances\n",
    "\n",
    "# User Similarity Matrix\n",
    "user_correlation = 1 - pairwise_distances(df_subtracted.fillna(0), metric='cosine')\n",
    "user_correlation[np.isnan(user_correlation)] = 0\n",
    "print(user_correlation)"
   ]
  },
  {
   "cell_type": "code",
   "execution_count": 293,
   "metadata": {},
   "outputs": [
    {
     "data": {
      "text/plain": [
       "array([[1., 0., 0., ..., 0., 0., 0.],\n",
       "       [0., 0., 0., ..., 0., 0., 0.],\n",
       "       [0., 0., 1., ..., 0., 0., 0.],\n",
       "       ...,\n",
       "       [0., 0., 0., ..., 0., 0., 0.],\n",
       "       [0., 0., 0., ..., 0., 1., 0.],\n",
       "       [0., 0., 0., ..., 0., 0., 1.]])"
      ]
     },
     "execution_count": 293,
     "metadata": {},
     "output_type": "execute_result"
    }
   ],
   "source": [
    "user_correlation[user_correlation<0]=0\n",
    "user_correlation"
   ]
  },
  {
   "cell_type": "code",
   "execution_count": 295,
   "metadata": {},
   "outputs": [
    {
     "name": "stdout",
     "output_type": "stream",
     "text": [
      "[[1. 0. 0. ... 0. 0. 0.]\n",
      " [0. 1. 0. ... 0. 0. 0.]\n",
      " [0. 0. 1. ... 0. 0. 0.]\n",
      " ...\n",
      " [0. 0. 0. ... 0. 0. 0.]\n",
      " [0. 0. 0. ... 0. 1. 0.]\n",
      " [0. 0. 0. ... 0. 0. 0.]]\n"
     ]
    }
   ],
   "source": [
    "# Evaluations on test data\n",
    "test_beer_features = test.pivot_table(\n",
    "    index='review_profileName',\n",
    "    columns='beer_beerId',\n",
    "    values='review_overall'\n",
    ")\n",
    "mean = np.nanmean(test_beer_features, axis=1)\n",
    "test_df_subtracted = (test_beer_features.T-mean).T\n",
    "\n",
    "# User Similarity Matrix\n",
    "test_user_correlation = 1 - pairwise_distances(test_df_subtracted.fillna(0), metric='cosine')\n",
    "test_user_correlation[np.isnan(test_user_correlation)] = 0\n",
    "print(test_user_correlation)"
   ]
  },
  {
   "cell_type": "code",
   "execution_count": 296,
   "metadata": {},
   "outputs": [
    {
     "data": {
      "text/plain": [
       "array([[ 2.14773697e+00,  3.24448346e+00,  4.26572972e+00, ...,\n",
       "        -1.62369915e-03,  0.00000000e+00,  0.00000000e+00],\n",
       "       [ 2.34830004e+00,  2.06805468e+00,  3.46986482e+00, ...,\n",
       "        -1.37014713e-01,  1.12457962e-01,  0.00000000e+00],\n",
       "       [ 8.14231228e-02,  5.69941718e-02,  3.60585968e-01, ...,\n",
       "        -9.83391364e-02,  9.18215412e-02,  0.00000000e+00],\n",
       "       ...,\n",
       "       [ 0.00000000e+00,  0.00000000e+00,  0.00000000e+00, ...,\n",
       "         0.00000000e+00,  0.00000000e+00,  0.00000000e+00],\n",
       "       [-1.09364175e+00,  4.87375377e-01,  2.01567882e+00, ...,\n",
       "         5.03947275e-01,  0.00000000e+00, -5.36117912e-02],\n",
       "       [ 0.00000000e+00,  0.00000000e+00,  0.00000000e+00, ...,\n",
       "         0.00000000e+00,  0.00000000e+00,  0.00000000e+00]])"
      ]
     },
     "execution_count": 296,
     "metadata": {},
     "output_type": "execute_result"
    }
   ],
   "source": [
    "test_user_predicted_ratings = np.dot(test_user_correlation, test_beer_features.fillna(0))\n",
    "test_user_predicted_ratings"
   ]
  },
  {
   "cell_type": "code",
   "execution_count": 297,
   "metadata": {},
   "outputs": [
    {
     "data": {
      "text/html": [
       "<div>\n",
       "<style scoped>\n",
       "    .dataframe tbody tr th:only-of-type {\n",
       "        vertical-align: middle;\n",
       "    }\n",
       "\n",
       "    .dataframe tbody tr th {\n",
       "        vertical-align: top;\n",
       "    }\n",
       "\n",
       "    .dataframe thead th {\n",
       "        text-align: right;\n",
       "    }\n",
       "</style>\n",
       "<table border=\"1\" class=\"dataframe\">\n",
       "  <thead>\n",
       "    <tr style=\"text-align: right;\">\n",
       "      <th>beer_beerId</th>\n",
       "      <th>5</th>\n",
       "      <th>6</th>\n",
       "      <th>7</th>\n",
       "      <th>8</th>\n",
       "      <th>9</th>\n",
       "      <th>11</th>\n",
       "      <th>12</th>\n",
       "      <th>13</th>\n",
       "      <th>20</th>\n",
       "      <th>30</th>\n",
       "      <th>...</th>\n",
       "      <th>77134</th>\n",
       "      <th>77184</th>\n",
       "      <th>77198</th>\n",
       "      <th>77202</th>\n",
       "      <th>77203</th>\n",
       "      <th>77217</th>\n",
       "      <th>77281</th>\n",
       "      <th>77297</th>\n",
       "      <th>77302</th>\n",
       "      <th>77307</th>\n",
       "    </tr>\n",
       "    <tr>\n",
       "      <th>review_profileName</th>\n",
       "      <th></th>\n",
       "      <th></th>\n",
       "      <th></th>\n",
       "      <th></th>\n",
       "      <th></th>\n",
       "      <th></th>\n",
       "      <th></th>\n",
       "      <th></th>\n",
       "      <th></th>\n",
       "      <th></th>\n",
       "      <th></th>\n",
       "      <th></th>\n",
       "      <th></th>\n",
       "      <th></th>\n",
       "      <th></th>\n",
       "      <th></th>\n",
       "      <th></th>\n",
       "      <th></th>\n",
       "      <th></th>\n",
       "      <th></th>\n",
       "      <th></th>\n",
       "    </tr>\n",
       "  </thead>\n",
       "  <tbody>\n",
       "    <tr>\n",
       "      <th>0110x011</th>\n",
       "      <td>0.0</td>\n",
       "      <td>0.0</td>\n",
       "      <td>0.0</td>\n",
       "      <td>0.0</td>\n",
       "      <td>0.0</td>\n",
       "      <td>0.0</td>\n",
       "      <td>0.0</td>\n",
       "      <td>0.0</td>\n",
       "      <td>0.0</td>\n",
       "      <td>0.0</td>\n",
       "      <td>...</td>\n",
       "      <td>0.0</td>\n",
       "      <td>0.0</td>\n",
       "      <td>0.0</td>\n",
       "      <td>0.0</td>\n",
       "      <td>0.0</td>\n",
       "      <td>0.0</td>\n",
       "      <td>0.0</td>\n",
       "      <td>-0.0</td>\n",
       "      <td>0.0</td>\n",
       "      <td>0.0</td>\n",
       "    </tr>\n",
       "    <tr>\n",
       "      <th>03SVTCobra</th>\n",
       "      <td>0.0</td>\n",
       "      <td>0.0</td>\n",
       "      <td>0.0</td>\n",
       "      <td>0.0</td>\n",
       "      <td>0.0</td>\n",
       "      <td>-0.0</td>\n",
       "      <td>0.0</td>\n",
       "      <td>-0.0</td>\n",
       "      <td>-0.0</td>\n",
       "      <td>-0.0</td>\n",
       "      <td>...</td>\n",
       "      <td>0.0</td>\n",
       "      <td>0.0</td>\n",
       "      <td>0.0</td>\n",
       "      <td>0.0</td>\n",
       "      <td>0.0</td>\n",
       "      <td>0.0</td>\n",
       "      <td>0.0</td>\n",
       "      <td>-0.0</td>\n",
       "      <td>0.0</td>\n",
       "      <td>0.0</td>\n",
       "    </tr>\n",
       "    <tr>\n",
       "      <th>05Harley</th>\n",
       "      <td>0.0</td>\n",
       "      <td>0.0</td>\n",
       "      <td>0.0</td>\n",
       "      <td>-0.0</td>\n",
       "      <td>0.0</td>\n",
       "      <td>0.0</td>\n",
       "      <td>-0.0</td>\n",
       "      <td>-0.0</td>\n",
       "      <td>0.0</td>\n",
       "      <td>0.0</td>\n",
       "      <td>...</td>\n",
       "      <td>0.0</td>\n",
       "      <td>0.0</td>\n",
       "      <td>-0.0</td>\n",
       "      <td>0.0</td>\n",
       "      <td>0.0</td>\n",
       "      <td>0.0</td>\n",
       "      <td>0.0</td>\n",
       "      <td>-0.0</td>\n",
       "      <td>0.0</td>\n",
       "      <td>0.0</td>\n",
       "    </tr>\n",
       "    <tr>\n",
       "      <th>0runkp0s</th>\n",
       "      <td>0.0</td>\n",
       "      <td>0.0</td>\n",
       "      <td>0.0</td>\n",
       "      <td>0.0</td>\n",
       "      <td>0.0</td>\n",
       "      <td>0.0</td>\n",
       "      <td>0.0</td>\n",
       "      <td>0.0</td>\n",
       "      <td>0.0</td>\n",
       "      <td>0.0</td>\n",
       "      <td>...</td>\n",
       "      <td>0.0</td>\n",
       "      <td>0.0</td>\n",
       "      <td>0.0</td>\n",
       "      <td>0.0</td>\n",
       "      <td>0.0</td>\n",
       "      <td>0.0</td>\n",
       "      <td>0.0</td>\n",
       "      <td>0.0</td>\n",
       "      <td>0.0</td>\n",
       "      <td>0.0</td>\n",
       "    </tr>\n",
       "    <tr>\n",
       "      <th>0tt0</th>\n",
       "      <td>0.0</td>\n",
       "      <td>0.0</td>\n",
       "      <td>0.0</td>\n",
       "      <td>0.0</td>\n",
       "      <td>0.0</td>\n",
       "      <td>-0.0</td>\n",
       "      <td>0.0</td>\n",
       "      <td>-0.0</td>\n",
       "      <td>-0.0</td>\n",
       "      <td>0.0</td>\n",
       "      <td>...</td>\n",
       "      <td>0.0</td>\n",
       "      <td>0.0</td>\n",
       "      <td>0.0</td>\n",
       "      <td>-0.0</td>\n",
       "      <td>0.0</td>\n",
       "      <td>0.0</td>\n",
       "      <td>0.0</td>\n",
       "      <td>0.0</td>\n",
       "      <td>0.0</td>\n",
       "      <td>0.0</td>\n",
       "    </tr>\n",
       "  </tbody>\n",
       "</table>\n",
       "<p>5 rows × 9582 columns</p>\n",
       "</div>"
      ],
      "text/plain": [
       "beer_beerId         5      6      7      8      9      11     12     13     \\\n",
       "review_profileName                                                           \n",
       "0110x011              0.0    0.0    0.0    0.0    0.0    0.0    0.0    0.0   \n",
       "03SVTCobra            0.0    0.0    0.0    0.0    0.0   -0.0    0.0   -0.0   \n",
       "05Harley              0.0    0.0    0.0   -0.0    0.0    0.0   -0.0   -0.0   \n",
       "0runkp0s              0.0    0.0    0.0    0.0    0.0    0.0    0.0    0.0   \n",
       "0tt0                  0.0    0.0    0.0    0.0    0.0   -0.0    0.0   -0.0   \n",
       "\n",
       "beer_beerId         20     30     ...  77134  77184  77198  77202  77203  \\\n",
       "review_profileName                ...                                      \n",
       "0110x011              0.0    0.0  ...    0.0    0.0    0.0    0.0    0.0   \n",
       "03SVTCobra           -0.0   -0.0  ...    0.0    0.0    0.0    0.0    0.0   \n",
       "05Harley              0.0    0.0  ...    0.0    0.0   -0.0    0.0    0.0   \n",
       "0runkp0s              0.0    0.0  ...    0.0    0.0    0.0    0.0    0.0   \n",
       "0tt0                 -0.0    0.0  ...    0.0    0.0    0.0   -0.0    0.0   \n",
       "\n",
       "beer_beerId         77217  77281  77297  77302  77307  \n",
       "review_profileName                                     \n",
       "0110x011              0.0    0.0   -0.0    0.0    0.0  \n",
       "03SVTCobra            0.0    0.0   -0.0    0.0    0.0  \n",
       "05Harley              0.0    0.0   -0.0    0.0    0.0  \n",
       "0runkp0s              0.0    0.0    0.0    0.0    0.0  \n",
       "0tt0                  0.0    0.0    0.0    0.0    0.0  \n",
       "\n",
       "[5 rows x 9582 columns]"
      ]
     },
     "execution_count": 297,
     "metadata": {},
     "output_type": "execute_result"
    }
   ],
   "source": [
    "test_user_final_rating = np.multiply(test_user_predicted_ratings,dummy_test)\n",
    "test_user_final_rating.head()"
   ]
  },
  {
   "cell_type": "code",
   "execution_count": 298,
   "metadata": {},
   "outputs": [
    {
     "name": "stderr",
     "output_type": "stream",
     "text": [
      "/opt/anaconda3/lib/python3.7/site-packages/sklearn/preprocessing/_data.py:375: RuntimeWarning: All-NaN slice encountered\n",
      "  data_min = np.nanmin(X, axis=0)\n",
      "/opt/anaconda3/lib/python3.7/site-packages/sklearn/preprocessing/_data.py:376: RuntimeWarning: All-NaN slice encountered\n",
      "  data_max = np.nanmax(X, axis=0)\n"
     ]
    },
    {
     "name": "stdout",
     "output_type": "stream",
     "text": [
      "MinMaxScaler(copy=True, feature_range=(1, 5))\n",
      "[[nan nan nan ... nan nan nan]\n",
      " [nan nan nan ... nan nan nan]\n",
      " [nan nan nan ... nan nan nan]\n",
      " ...\n",
      " [nan nan nan ... nan nan nan]\n",
      " [nan nan nan ... nan nan nan]\n",
      " [nan nan nan ... nan nan nan]]\n"
     ]
    }
   ],
   "source": [
    "from sklearn.preprocessing import MinMaxScaler\n",
    "from numpy import *\n",
    "\n",
    "X  = test_user_final_rating.copy() \n",
    "X = X[X>0]\n",
    "\n",
    "scaler = MinMaxScaler(feature_range=(1, 5))\n",
    "print(scaler.fit(X))\n",
    "y = (scaler.transform(X))\n",
    "print(y)"
   ]
  },
  {
   "cell_type": "code",
   "execution_count": 300,
   "metadata": {},
   "outputs": [
    {
     "name": "stdout",
     "output_type": "stream",
     "text": [
      "1.6408274927985673\n"
     ]
    }
   ],
   "source": [
    "test_ = test.pivot_table(\n",
    "    index='review_profileName',\n",
    "    columns='beer_beerId',\n",
    "    values='review_overall'\n",
    ")\n",
    "# Finding total non-NaN value\n",
    "total_non_nan = np.count_nonzero(~np.isnan(y))\n",
    "rmse = (sum(sum((test_ - y )**2))/total_non_nan)**0.5\n",
    "print(rmse)"
   ]
  }
 ],
 "metadata": {
  "kernelspec": {
   "display_name": "Python 3",
   "language": "python",
   "name": "python3"
  },
  "language_info": {
   "codemirror_mode": {
    "name": "ipython",
    "version": 3
   },
   "file_extension": ".py",
   "mimetype": "text/x-python",
   "name": "python",
   "nbconvert_exporter": "python",
   "pygments_lexer": "ipython3",
   "version": "3.7.6"
  }
 },
 "nbformat": 4,
 "nbformat_minor": 4
}
